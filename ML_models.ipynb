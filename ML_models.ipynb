{
 "cells": [
  {
   "attachments": {},
   "cell_type": "markdown",
   "metadata": {},
   "source": [
    "# Importación de librerías y carga de datos"
   ]
  },
  {
   "cell_type": "code",
   "execution_count": 28,
   "metadata": {},
   "outputs": [],
   "source": [
    "\"\"\"\n",
    "Modulo de entrenamiento para diferentes pipelines de ML para el\n",
    "entrenamiento utilizando los datasets creados. El flujo es capaz de \n",
    "generalizar en la mayoría de los casos y únicamente es necesario\n",
    "realizar modificaciones en la ruta a los datos.\n",
    "\n",
    "\"\"\"\n",
    "import os\n",
    "import pandas as pd \n",
    "import seaborn as sns                                                   \n",
    "%matplotlib inline\n",
    "import matplotlib.pyplot as plt\n",
    "from sklearn.model_selection import train_test_split, \\\n",
    "                                    cross_val_score, \\\n",
    "                                    learning_curve, \\\n",
    "                                    RandomizedSearchCV, \\\n",
    "                                    GridSearchCV\n",
    "from sklearn.inspection import permutation_importance\n",
    "import numpy as np\n",
    "from sklearn.svm import SVC\n",
    "from sklearn import datasets, metrics\n",
    "from sklearn.ensemble import RandomForestClassifier\n",
    "import seaborn as sns\n",
    "from sklearn.preprocessing import StandardScaler\n",
    "#from boruta import BorutaPy\n",
    "\n"
   ]
  },
  {
   "cell_type": "code",
   "execution_count": 29,
   "metadata": {},
   "outputs": [
    {
     "data": {
      "text/html": [
       "<div>\n",
       "<style scoped>\n",
       "    .dataframe tbody tr th:only-of-type {\n",
       "        vertical-align: middle;\n",
       "    }\n",
       "\n",
       "    .dataframe tbody tr th {\n",
       "        vertical-align: top;\n",
       "    }\n",
       "\n",
       "    .dataframe thead th {\n",
       "        text-align: right;\n",
       "    }\n",
       "</style>\n",
       "<table border=\"1\" class=\"dataframe\">\n",
       "  <thead>\n",
       "    <tr style=\"text-align: right;\">\n",
       "      <th></th>\n",
       "      <th>S1_Temp</th>\n",
       "      <th>S2_Temp</th>\n",
       "      <th>S3_Temp</th>\n",
       "      <th>S4_Temp</th>\n",
       "      <th>S1_Light</th>\n",
       "      <th>S2_Light</th>\n",
       "      <th>S3_Light</th>\n",
       "      <th>S4_Light</th>\n",
       "      <th>S5_CO2</th>\n",
       "      <th>S5_CO2_Slope</th>\n",
       "      <th>S6_PIR</th>\n",
       "      <th>S7_PIR</th>\n",
       "      <th>Room_Occupancy_Count</th>\n",
       "    </tr>\n",
       "  </thead>\n",
       "  <tbody>\n",
       "    <tr>\n",
       "      <th>0</th>\n",
       "      <td>24.94</td>\n",
       "      <td>24.75</td>\n",
       "      <td>24.56</td>\n",
       "      <td>25.38</td>\n",
       "      <td>121</td>\n",
       "      <td>34</td>\n",
       "      <td>53</td>\n",
       "      <td>40</td>\n",
       "      <td>390</td>\n",
       "      <td>0.769231</td>\n",
       "      <td>0</td>\n",
       "      <td>0</td>\n",
       "      <td>1</td>\n",
       "    </tr>\n",
       "    <tr>\n",
       "      <th>1</th>\n",
       "      <td>24.94</td>\n",
       "      <td>24.75</td>\n",
       "      <td>24.56</td>\n",
       "      <td>25.44</td>\n",
       "      <td>121</td>\n",
       "      <td>33</td>\n",
       "      <td>53</td>\n",
       "      <td>40</td>\n",
       "      <td>390</td>\n",
       "      <td>0.646154</td>\n",
       "      <td>0</td>\n",
       "      <td>0</td>\n",
       "      <td>1</td>\n",
       "    </tr>\n",
       "    <tr>\n",
       "      <th>2</th>\n",
       "      <td>25.00</td>\n",
       "      <td>24.75</td>\n",
       "      <td>24.50</td>\n",
       "      <td>25.44</td>\n",
       "      <td>121</td>\n",
       "      <td>34</td>\n",
       "      <td>53</td>\n",
       "      <td>40</td>\n",
       "      <td>390</td>\n",
       "      <td>0.519231</td>\n",
       "      <td>0</td>\n",
       "      <td>0</td>\n",
       "      <td>1</td>\n",
       "    </tr>\n",
       "    <tr>\n",
       "      <th>3</th>\n",
       "      <td>25.00</td>\n",
       "      <td>24.75</td>\n",
       "      <td>24.56</td>\n",
       "      <td>25.44</td>\n",
       "      <td>121</td>\n",
       "      <td>34</td>\n",
       "      <td>53</td>\n",
       "      <td>40</td>\n",
       "      <td>390</td>\n",
       "      <td>0.388462</td>\n",
       "      <td>0</td>\n",
       "      <td>0</td>\n",
       "      <td>1</td>\n",
       "    </tr>\n",
       "    <tr>\n",
       "      <th>4</th>\n",
       "      <td>25.00</td>\n",
       "      <td>24.75</td>\n",
       "      <td>24.56</td>\n",
       "      <td>25.44</td>\n",
       "      <td>121</td>\n",
       "      <td>34</td>\n",
       "      <td>54</td>\n",
       "      <td>40</td>\n",
       "      <td>390</td>\n",
       "      <td>0.253846</td>\n",
       "      <td>0</td>\n",
       "      <td>0</td>\n",
       "      <td>1</td>\n",
       "    </tr>\n",
       "    <tr>\n",
       "      <th>...</th>\n",
       "      <td>...</td>\n",
       "      <td>...</td>\n",
       "      <td>...</td>\n",
       "      <td>...</td>\n",
       "      <td>...</td>\n",
       "      <td>...</td>\n",
       "      <td>...</td>\n",
       "      <td>...</td>\n",
       "      <td>...</td>\n",
       "      <td>...</td>\n",
       "      <td>...</td>\n",
       "      <td>...</td>\n",
       "      <td>...</td>\n",
       "    </tr>\n",
       "    <tr>\n",
       "      <th>10124</th>\n",
       "      <td>25.06</td>\n",
       "      <td>25.13</td>\n",
       "      <td>24.69</td>\n",
       "      <td>25.31</td>\n",
       "      <td>6</td>\n",
       "      <td>7</td>\n",
       "      <td>33</td>\n",
       "      <td>22</td>\n",
       "      <td>345</td>\n",
       "      <td>0.000000</td>\n",
       "      <td>0</td>\n",
       "      <td>0</td>\n",
       "      <td>0</td>\n",
       "    </tr>\n",
       "    <tr>\n",
       "      <th>10125</th>\n",
       "      <td>25.06</td>\n",
       "      <td>25.06</td>\n",
       "      <td>24.69</td>\n",
       "      <td>25.25</td>\n",
       "      <td>6</td>\n",
       "      <td>7</td>\n",
       "      <td>34</td>\n",
       "      <td>22</td>\n",
       "      <td>345</td>\n",
       "      <td>0.000000</td>\n",
       "      <td>0</td>\n",
       "      <td>0</td>\n",
       "      <td>0</td>\n",
       "    </tr>\n",
       "    <tr>\n",
       "      <th>10126</th>\n",
       "      <td>25.13</td>\n",
       "      <td>25.06</td>\n",
       "      <td>24.69</td>\n",
       "      <td>25.25</td>\n",
       "      <td>6</td>\n",
       "      <td>7</td>\n",
       "      <td>34</td>\n",
       "      <td>22</td>\n",
       "      <td>345</td>\n",
       "      <td>0.000000</td>\n",
       "      <td>0</td>\n",
       "      <td>0</td>\n",
       "      <td>0</td>\n",
       "    </tr>\n",
       "    <tr>\n",
       "      <th>10127</th>\n",
       "      <td>25.13</td>\n",
       "      <td>25.06</td>\n",
       "      <td>24.69</td>\n",
       "      <td>25.25</td>\n",
       "      <td>6</td>\n",
       "      <td>7</td>\n",
       "      <td>34</td>\n",
       "      <td>22</td>\n",
       "      <td>345</td>\n",
       "      <td>0.000000</td>\n",
       "      <td>0</td>\n",
       "      <td>0</td>\n",
       "      <td>0</td>\n",
       "    </tr>\n",
       "    <tr>\n",
       "      <th>10128</th>\n",
       "      <td>25.13</td>\n",
       "      <td>25.06</td>\n",
       "      <td>24.69</td>\n",
       "      <td>25.25</td>\n",
       "      <td>6</td>\n",
       "      <td>7</td>\n",
       "      <td>34</td>\n",
       "      <td>22</td>\n",
       "      <td>345</td>\n",
       "      <td>0.000000</td>\n",
       "      <td>0</td>\n",
       "      <td>0</td>\n",
       "      <td>0</td>\n",
       "    </tr>\n",
       "  </tbody>\n",
       "</table>\n",
       "<p>10129 rows × 13 columns</p>\n",
       "</div>"
      ],
      "text/plain": [
       "       S1_Temp  S2_Temp  S3_Temp  S4_Temp  S1_Light  S2_Light  S3_Light  \\\n",
       "0        24.94    24.75    24.56    25.38       121        34        53   \n",
       "1        24.94    24.75    24.56    25.44       121        33        53   \n",
       "2        25.00    24.75    24.50    25.44       121        34        53   \n",
       "3        25.00    24.75    24.56    25.44       121        34        53   \n",
       "4        25.00    24.75    24.56    25.44       121        34        54   \n",
       "...        ...      ...      ...      ...       ...       ...       ...   \n",
       "10124    25.06    25.13    24.69    25.31         6         7        33   \n",
       "10125    25.06    25.06    24.69    25.25         6         7        34   \n",
       "10126    25.13    25.06    24.69    25.25         6         7        34   \n",
       "10127    25.13    25.06    24.69    25.25         6         7        34   \n",
       "10128    25.13    25.06    24.69    25.25         6         7        34   \n",
       "\n",
       "       S4_Light  S5_CO2  S5_CO2_Slope  S6_PIR  S7_PIR  Room_Occupancy_Count  \n",
       "0            40     390      0.769231       0       0                     1  \n",
       "1            40     390      0.646154       0       0                     1  \n",
       "2            40     390      0.519231       0       0                     1  \n",
       "3            40     390      0.388462       0       0                     1  \n",
       "4            40     390      0.253846       0       0                     1  \n",
       "...         ...     ...           ...     ...     ...                   ...  \n",
       "10124        22     345      0.000000       0       0                     0  \n",
       "10125        22     345      0.000000       0       0                     0  \n",
       "10126        22     345      0.000000       0       0                     0  \n",
       "10127        22     345      0.000000       0       0                     0  \n",
       "10128        22     345      0.000000       0       0                     0  \n",
       "\n",
       "[10129 rows x 13 columns]"
      ]
     },
     "execution_count": 29,
     "metadata": {},
     "output_type": "execute_result"
    }
   ],
   "source": [
    "#path=r'C:\\Users\\Luisa\\OneDrive - Universidad de Antioquia\\GRUNECO\\Doctorado Ximena\\pca\\PCA_without_powers.csv'.replace('\\\\','/')\n",
    "#path=r'C:\\Users\\Luisa\\OneDrive - Universidad de Antioquia\\GRUNECO\\Doctorado Ximena\\pca\\sl\\PCA_sl.csv'.replace('\\\\','/')\n",
    "\n",
    "data=pd.read_csv(\"Occupancy_Estimation.csv\",sep=\",\")\n",
    "data = data.drop([\"Date\",\"Time\",'S1_Sound', 'S2_Sound', 'S3_Sound', 'S4_Sound'], axis=1)\n",
    "data"
   ]
  },
  {
   "cell_type": "code",
   "execution_count": 30,
   "metadata": {},
   "outputs": [
    {
     "data": {
      "text/html": [
       "<div>\n",
       "<style scoped>\n",
       "    .dataframe tbody tr th:only-of-type {\n",
       "        vertical-align: middle;\n",
       "    }\n",
       "\n",
       "    .dataframe tbody tr th {\n",
       "        vertical-align: top;\n",
       "    }\n",
       "\n",
       "    .dataframe thead th {\n",
       "        text-align: right;\n",
       "    }\n",
       "</style>\n",
       "<table border=\"1\" class=\"dataframe\">\n",
       "  <thead>\n",
       "    <tr style=\"text-align: right;\">\n",
       "      <th></th>\n",
       "      <th>S1_Temp</th>\n",
       "      <th>S2_Temp</th>\n",
       "      <th>S3_Temp</th>\n",
       "      <th>S4_Temp</th>\n",
       "      <th>S1_Light</th>\n",
       "      <th>S2_Light</th>\n",
       "      <th>S3_Light</th>\n",
       "      <th>S4_Light</th>\n",
       "      <th>S5_CO2</th>\n",
       "      <th>S5_CO2_Slope</th>\n",
       "    </tr>\n",
       "  </thead>\n",
       "  <tbody>\n",
       "    <tr>\n",
       "      <th>0</th>\n",
       "      <td>-1.463033</td>\n",
       "      <td>-1.357775</td>\n",
       "      <td>-1.162334</td>\n",
       "      <td>-1.049684</td>\n",
       "      <td>1.873305</td>\n",
       "      <td>0.118627</td>\n",
       "      <td>0.321099</td>\n",
       "      <td>1.366226</td>\n",
       "      <td>-0.354382</td>\n",
       "      <td>0.664469</td>\n",
       "    </tr>\n",
       "    <tr>\n",
       "      <th>1</th>\n",
       "      <td>-1.463033</td>\n",
       "      <td>-1.357775</td>\n",
       "      <td>-1.162334</td>\n",
       "      <td>-0.881342</td>\n",
       "      <td>1.873305</td>\n",
       "      <td>0.103769</td>\n",
       "      <td>0.321099</td>\n",
       "      <td>1.366226</td>\n",
       "      <td>-0.354382</td>\n",
       "      <td>0.558817</td>\n",
       "    </tr>\n",
       "    <tr>\n",
       "      <th>2</th>\n",
       "      <td>-1.292255</td>\n",
       "      <td>-1.357775</td>\n",
       "      <td>-1.302764</td>\n",
       "      <td>-0.881342</td>\n",
       "      <td>1.873305</td>\n",
       "      <td>0.118627</td>\n",
       "      <td>0.321099</td>\n",
       "      <td>1.366226</td>\n",
       "      <td>-0.354382</td>\n",
       "      <td>0.449864</td>\n",
       "    </tr>\n",
       "    <tr>\n",
       "      <th>3</th>\n",
       "      <td>-1.292255</td>\n",
       "      <td>-1.357775</td>\n",
       "      <td>-1.162334</td>\n",
       "      <td>-0.881342</td>\n",
       "      <td>1.873305</td>\n",
       "      <td>0.118627</td>\n",
       "      <td>0.321099</td>\n",
       "      <td>1.366226</td>\n",
       "      <td>-0.354382</td>\n",
       "      <td>0.337609</td>\n",
       "    </tr>\n",
       "    <tr>\n",
       "      <th>4</th>\n",
       "      <td>-1.292255</td>\n",
       "      <td>-1.357775</td>\n",
       "      <td>-1.162334</td>\n",
       "      <td>-0.881342</td>\n",
       "      <td>1.873305</td>\n",
       "      <td>0.118627</td>\n",
       "      <td>0.338223</td>\n",
       "      <td>1.366226</td>\n",
       "      <td>-0.354382</td>\n",
       "      <td>0.222053</td>\n",
       "    </tr>\n",
       "    <tr>\n",
       "      <th>...</th>\n",
       "      <td>...</td>\n",
       "      <td>...</td>\n",
       "      <td>...</td>\n",
       "      <td>...</td>\n",
       "      <td>...</td>\n",
       "      <td>...</td>\n",
       "      <td>...</td>\n",
       "      <td>...</td>\n",
       "      <td>...</td>\n",
       "      <td>...</td>\n",
       "    </tr>\n",
       "    <tr>\n",
       "      <th>10124</th>\n",
       "      <td>-1.121477</td>\n",
       "      <td>-0.709639</td>\n",
       "      <td>-0.858071</td>\n",
       "      <td>-1.246084</td>\n",
       "      <td>-0.381210</td>\n",
       "      <td>-0.282556</td>\n",
       "      <td>-0.021379</td>\n",
       "      <td>0.447917</td>\n",
       "      <td>-0.579432</td>\n",
       "      <td>0.004146</td>\n",
       "    </tr>\n",
       "    <tr>\n",
       "      <th>10125</th>\n",
       "      <td>-1.121477</td>\n",
       "      <td>-0.829032</td>\n",
       "      <td>-0.858071</td>\n",
       "      <td>-1.414426</td>\n",
       "      <td>-0.381210</td>\n",
       "      <td>-0.282556</td>\n",
       "      <td>-0.004255</td>\n",
       "      <td>0.447917</td>\n",
       "      <td>-0.579432</td>\n",
       "      <td>0.004146</td>\n",
       "    </tr>\n",
       "    <tr>\n",
       "      <th>10126</th>\n",
       "      <td>-0.922236</td>\n",
       "      <td>-0.829032</td>\n",
       "      <td>-0.858071</td>\n",
       "      <td>-1.414426</td>\n",
       "      <td>-0.381210</td>\n",
       "      <td>-0.282556</td>\n",
       "      <td>-0.004255</td>\n",
       "      <td>0.447917</td>\n",
       "      <td>-0.579432</td>\n",
       "      <td>0.004146</td>\n",
       "    </tr>\n",
       "    <tr>\n",
       "      <th>10127</th>\n",
       "      <td>-0.922236</td>\n",
       "      <td>-0.829032</td>\n",
       "      <td>-0.858071</td>\n",
       "      <td>-1.414426</td>\n",
       "      <td>-0.381210</td>\n",
       "      <td>-0.282556</td>\n",
       "      <td>-0.004255</td>\n",
       "      <td>0.447917</td>\n",
       "      <td>-0.579432</td>\n",
       "      <td>0.004146</td>\n",
       "    </tr>\n",
       "    <tr>\n",
       "      <th>10128</th>\n",
       "      <td>-0.922236</td>\n",
       "      <td>-0.829032</td>\n",
       "      <td>-0.858071</td>\n",
       "      <td>-1.414426</td>\n",
       "      <td>-0.381210</td>\n",
       "      <td>-0.282556</td>\n",
       "      <td>-0.004255</td>\n",
       "      <td>0.447917</td>\n",
       "      <td>-0.579432</td>\n",
       "      <td>0.004146</td>\n",
       "    </tr>\n",
       "  </tbody>\n",
       "</table>\n",
       "<p>10129 rows × 10 columns</p>\n",
       "</div>"
      ],
      "text/plain": [
       "        S1_Temp   S2_Temp   S3_Temp   S4_Temp  S1_Light  S2_Light  S3_Light  \\\n",
       "0     -1.463033 -1.357775 -1.162334 -1.049684  1.873305  0.118627  0.321099   \n",
       "1     -1.463033 -1.357775 -1.162334 -0.881342  1.873305  0.103769  0.321099   \n",
       "2     -1.292255 -1.357775 -1.302764 -0.881342  1.873305  0.118627  0.321099   \n",
       "3     -1.292255 -1.357775 -1.162334 -0.881342  1.873305  0.118627  0.321099   \n",
       "4     -1.292255 -1.357775 -1.162334 -0.881342  1.873305  0.118627  0.338223   \n",
       "...         ...       ...       ...       ...       ...       ...       ...   \n",
       "10124 -1.121477 -0.709639 -0.858071 -1.246084 -0.381210 -0.282556 -0.021379   \n",
       "10125 -1.121477 -0.829032 -0.858071 -1.414426 -0.381210 -0.282556 -0.004255   \n",
       "10126 -0.922236 -0.829032 -0.858071 -1.414426 -0.381210 -0.282556 -0.004255   \n",
       "10127 -0.922236 -0.829032 -0.858071 -1.414426 -0.381210 -0.282556 -0.004255   \n",
       "10128 -0.922236 -0.829032 -0.858071 -1.414426 -0.381210 -0.282556 -0.004255   \n",
       "\n",
       "       S4_Light    S5_CO2  S5_CO2_Slope  \n",
       "0      1.366226 -0.354382      0.664469  \n",
       "1      1.366226 -0.354382      0.558817  \n",
       "2      1.366226 -0.354382      0.449864  \n",
       "3      1.366226 -0.354382      0.337609  \n",
       "4      1.366226 -0.354382      0.222053  \n",
       "...         ...       ...           ...  \n",
       "10124  0.447917 -0.579432      0.004146  \n",
       "10125  0.447917 -0.579432      0.004146  \n",
       "10126  0.447917 -0.579432      0.004146  \n",
       "10127  0.447917 -0.579432      0.004146  \n",
       "10128  0.447917 -0.579432      0.004146  \n",
       "\n",
       "[10129 rows x 10 columns]"
      ]
     },
     "execution_count": 30,
     "metadata": {},
     "output_type": "execute_result"
    }
   ],
   "source": [
    "scaler =StandardScaler()\n",
    "data_s = scaler.fit_transform(data[['S1_Temp', 'S2_Temp', 'S3_Temp', 'S4_Temp', 'S1_Light', 'S2_Light',\n",
    "       'S3_Light', 'S4_Light','S5_CO2', 'S5_CO2_Slope']])\n",
    "data_s = pd.DataFrame(data_s,columns=data.columns[:-3])\n",
    "data_s"
   ]
  },
  {
   "cell_type": "code",
   "execution_count": 31,
   "metadata": {},
   "outputs": [],
   "source": [
    "data_s[['S6_PIR', 'S7_PIR', 'Room_Occupancy_Count']] = data[['S6_PIR', 'S7_PIR', 'Room_Occupancy_Count']]"
   ]
  },
  {
   "cell_type": "code",
   "execution_count": 32,
   "metadata": {},
   "outputs": [
    {
     "data": {
      "text/html": [
       "<div>\n",
       "<style scoped>\n",
       "    .dataframe tbody tr th:only-of-type {\n",
       "        vertical-align: middle;\n",
       "    }\n",
       "\n",
       "    .dataframe tbody tr th {\n",
       "        vertical-align: top;\n",
       "    }\n",
       "\n",
       "    .dataframe thead th {\n",
       "        text-align: right;\n",
       "    }\n",
       "</style>\n",
       "<table border=\"1\" class=\"dataframe\">\n",
       "  <thead>\n",
       "    <tr style=\"text-align: right;\">\n",
       "      <th></th>\n",
       "      <th>S1_Temp</th>\n",
       "      <th>S2_Temp</th>\n",
       "      <th>S3_Temp</th>\n",
       "      <th>S4_Temp</th>\n",
       "      <th>S1_Light</th>\n",
       "      <th>S2_Light</th>\n",
       "      <th>S3_Light</th>\n",
       "      <th>S4_Light</th>\n",
       "      <th>S5_CO2</th>\n",
       "      <th>S5_CO2_Slope</th>\n",
       "      <th>S6_PIR</th>\n",
       "      <th>S7_PIR</th>\n",
       "      <th>Room_Occupancy_Count</th>\n",
       "    </tr>\n",
       "  </thead>\n",
       "  <tbody>\n",
       "    <tr>\n",
       "      <th>0</th>\n",
       "      <td>-1.463033</td>\n",
       "      <td>-1.357775</td>\n",
       "      <td>-1.162334</td>\n",
       "      <td>-1.049684</td>\n",
       "      <td>1.873305</td>\n",
       "      <td>0.118627</td>\n",
       "      <td>0.321099</td>\n",
       "      <td>1.366226</td>\n",
       "      <td>-0.354382</td>\n",
       "      <td>0.664469</td>\n",
       "      <td>0</td>\n",
       "      <td>0</td>\n",
       "      <td>1</td>\n",
       "    </tr>\n",
       "    <tr>\n",
       "      <th>1</th>\n",
       "      <td>-1.463033</td>\n",
       "      <td>-1.357775</td>\n",
       "      <td>-1.162334</td>\n",
       "      <td>-0.881342</td>\n",
       "      <td>1.873305</td>\n",
       "      <td>0.103769</td>\n",
       "      <td>0.321099</td>\n",
       "      <td>1.366226</td>\n",
       "      <td>-0.354382</td>\n",
       "      <td>0.558817</td>\n",
       "      <td>0</td>\n",
       "      <td>0</td>\n",
       "      <td>1</td>\n",
       "    </tr>\n",
       "    <tr>\n",
       "      <th>2</th>\n",
       "      <td>-1.292255</td>\n",
       "      <td>-1.357775</td>\n",
       "      <td>-1.302764</td>\n",
       "      <td>-0.881342</td>\n",
       "      <td>1.873305</td>\n",
       "      <td>0.118627</td>\n",
       "      <td>0.321099</td>\n",
       "      <td>1.366226</td>\n",
       "      <td>-0.354382</td>\n",
       "      <td>0.449864</td>\n",
       "      <td>0</td>\n",
       "      <td>0</td>\n",
       "      <td>1</td>\n",
       "    </tr>\n",
       "    <tr>\n",
       "      <th>3</th>\n",
       "      <td>-1.292255</td>\n",
       "      <td>-1.357775</td>\n",
       "      <td>-1.162334</td>\n",
       "      <td>-0.881342</td>\n",
       "      <td>1.873305</td>\n",
       "      <td>0.118627</td>\n",
       "      <td>0.321099</td>\n",
       "      <td>1.366226</td>\n",
       "      <td>-0.354382</td>\n",
       "      <td>0.337609</td>\n",
       "      <td>0</td>\n",
       "      <td>0</td>\n",
       "      <td>1</td>\n",
       "    </tr>\n",
       "    <tr>\n",
       "      <th>4</th>\n",
       "      <td>-1.292255</td>\n",
       "      <td>-1.357775</td>\n",
       "      <td>-1.162334</td>\n",
       "      <td>-0.881342</td>\n",
       "      <td>1.873305</td>\n",
       "      <td>0.118627</td>\n",
       "      <td>0.338223</td>\n",
       "      <td>1.366226</td>\n",
       "      <td>-0.354382</td>\n",
       "      <td>0.222053</td>\n",
       "      <td>0</td>\n",
       "      <td>0</td>\n",
       "      <td>1</td>\n",
       "    </tr>\n",
       "    <tr>\n",
       "      <th>...</th>\n",
       "      <td>...</td>\n",
       "      <td>...</td>\n",
       "      <td>...</td>\n",
       "      <td>...</td>\n",
       "      <td>...</td>\n",
       "      <td>...</td>\n",
       "      <td>...</td>\n",
       "      <td>...</td>\n",
       "      <td>...</td>\n",
       "      <td>...</td>\n",
       "      <td>...</td>\n",
       "      <td>...</td>\n",
       "      <td>...</td>\n",
       "    </tr>\n",
       "    <tr>\n",
       "      <th>10124</th>\n",
       "      <td>-1.121477</td>\n",
       "      <td>-0.709639</td>\n",
       "      <td>-0.858071</td>\n",
       "      <td>-1.246084</td>\n",
       "      <td>-0.381210</td>\n",
       "      <td>-0.282556</td>\n",
       "      <td>-0.021379</td>\n",
       "      <td>0.447917</td>\n",
       "      <td>-0.579432</td>\n",
       "      <td>0.004146</td>\n",
       "      <td>0</td>\n",
       "      <td>0</td>\n",
       "      <td>0</td>\n",
       "    </tr>\n",
       "    <tr>\n",
       "      <th>10125</th>\n",
       "      <td>-1.121477</td>\n",
       "      <td>-0.829032</td>\n",
       "      <td>-0.858071</td>\n",
       "      <td>-1.414426</td>\n",
       "      <td>-0.381210</td>\n",
       "      <td>-0.282556</td>\n",
       "      <td>-0.004255</td>\n",
       "      <td>0.447917</td>\n",
       "      <td>-0.579432</td>\n",
       "      <td>0.004146</td>\n",
       "      <td>0</td>\n",
       "      <td>0</td>\n",
       "      <td>0</td>\n",
       "    </tr>\n",
       "    <tr>\n",
       "      <th>10126</th>\n",
       "      <td>-0.922236</td>\n",
       "      <td>-0.829032</td>\n",
       "      <td>-0.858071</td>\n",
       "      <td>-1.414426</td>\n",
       "      <td>-0.381210</td>\n",
       "      <td>-0.282556</td>\n",
       "      <td>-0.004255</td>\n",
       "      <td>0.447917</td>\n",
       "      <td>-0.579432</td>\n",
       "      <td>0.004146</td>\n",
       "      <td>0</td>\n",
       "      <td>0</td>\n",
       "      <td>0</td>\n",
       "    </tr>\n",
       "    <tr>\n",
       "      <th>10127</th>\n",
       "      <td>-0.922236</td>\n",
       "      <td>-0.829032</td>\n",
       "      <td>-0.858071</td>\n",
       "      <td>-1.414426</td>\n",
       "      <td>-0.381210</td>\n",
       "      <td>-0.282556</td>\n",
       "      <td>-0.004255</td>\n",
       "      <td>0.447917</td>\n",
       "      <td>-0.579432</td>\n",
       "      <td>0.004146</td>\n",
       "      <td>0</td>\n",
       "      <td>0</td>\n",
       "      <td>0</td>\n",
       "    </tr>\n",
       "    <tr>\n",
       "      <th>10128</th>\n",
       "      <td>-0.922236</td>\n",
       "      <td>-0.829032</td>\n",
       "      <td>-0.858071</td>\n",
       "      <td>-1.414426</td>\n",
       "      <td>-0.381210</td>\n",
       "      <td>-0.282556</td>\n",
       "      <td>-0.004255</td>\n",
       "      <td>0.447917</td>\n",
       "      <td>-0.579432</td>\n",
       "      <td>0.004146</td>\n",
       "      <td>0</td>\n",
       "      <td>0</td>\n",
       "      <td>0</td>\n",
       "    </tr>\n",
       "  </tbody>\n",
       "</table>\n",
       "<p>10129 rows × 13 columns</p>\n",
       "</div>"
      ],
      "text/plain": [
       "        S1_Temp   S2_Temp   S3_Temp   S4_Temp  S1_Light  S2_Light  S3_Light  \\\n",
       "0     -1.463033 -1.357775 -1.162334 -1.049684  1.873305  0.118627  0.321099   \n",
       "1     -1.463033 -1.357775 -1.162334 -0.881342  1.873305  0.103769  0.321099   \n",
       "2     -1.292255 -1.357775 -1.302764 -0.881342  1.873305  0.118627  0.321099   \n",
       "3     -1.292255 -1.357775 -1.162334 -0.881342  1.873305  0.118627  0.321099   \n",
       "4     -1.292255 -1.357775 -1.162334 -0.881342  1.873305  0.118627  0.338223   \n",
       "...         ...       ...       ...       ...       ...       ...       ...   \n",
       "10124 -1.121477 -0.709639 -0.858071 -1.246084 -0.381210 -0.282556 -0.021379   \n",
       "10125 -1.121477 -0.829032 -0.858071 -1.414426 -0.381210 -0.282556 -0.004255   \n",
       "10126 -0.922236 -0.829032 -0.858071 -1.414426 -0.381210 -0.282556 -0.004255   \n",
       "10127 -0.922236 -0.829032 -0.858071 -1.414426 -0.381210 -0.282556 -0.004255   \n",
       "10128 -0.922236 -0.829032 -0.858071 -1.414426 -0.381210 -0.282556 -0.004255   \n",
       "\n",
       "       S4_Light    S5_CO2  S5_CO2_Slope  S6_PIR  S7_PIR  Room_Occupancy_Count  \n",
       "0      1.366226 -0.354382      0.664469       0       0                     1  \n",
       "1      1.366226 -0.354382      0.558817       0       0                     1  \n",
       "2      1.366226 -0.354382      0.449864       0       0                     1  \n",
       "3      1.366226 -0.354382      0.337609       0       0                     1  \n",
       "4      1.366226 -0.354382      0.222053       0       0                     1  \n",
       "...         ...       ...           ...     ...     ...                   ...  \n",
       "10124  0.447917 -0.579432      0.004146       0       0                     0  \n",
       "10125  0.447917 -0.579432      0.004146       0       0                     0  \n",
       "10126  0.447917 -0.579432      0.004146       0       0                     0  \n",
       "10127  0.447917 -0.579432      0.004146       0       0                     0  \n",
       "10128  0.447917 -0.579432      0.004146       0       0                     0  \n",
       "\n",
       "[10129 rows x 13 columns]"
      ]
     },
     "execution_count": 32,
     "metadata": {},
     "output_type": "execute_result"
    }
   ],
   "source": [
    "data_s"
   ]
  },
  {
   "cell_type": "markdown",
   "metadata": {},
   "source": [
    "PCA"
   ]
  },
  {
   "cell_type": "code",
   "execution_count": 33,
   "metadata": {},
   "outputs": [],
   "source": [
    "from sklearn.decomposition import PCA\n",
    "from sklearn.preprocessing import StandardScaler, MinMaxScaler"
   ]
  },
  {
   "cell_type": "code",
   "execution_count": 34,
   "metadata": {},
   "outputs": [],
   "source": [
    "pca = PCA(n_components=5)\n",
    "p_components = pca.fit(data_s[['S1_Temp', 'S2_Temp', 'S3_Temp', 'S4_Temp', 'S1_Light', 'S2_Light', 'S3_Light', 'S4_Light', 'S5_CO2', 'S5_CO2_Slope']])"
   ]
  },
  {
   "cell_type": "code",
   "execution_count": 35,
   "metadata": {},
   "outputs": [
    {
     "data": {
      "text/plain": [
       "(10129, 5)"
      ]
     },
     "execution_count": 35,
     "metadata": {},
     "output_type": "execute_result"
    }
   ],
   "source": [
    "data_pca = pca.transform(data_s[['S1_Temp', 'S2_Temp', 'S3_Temp', 'S4_Temp', 'S1_Light', 'S2_Light', 'S3_Light', 'S4_Light', 'S5_CO2', 'S5_CO2_Slope']])\n",
    "data_pca.shape"
   ]
  },
  {
   "cell_type": "code",
   "execution_count": 36,
   "metadata": {},
   "outputs": [],
   "source": [
    "X_pca = data_pca\n",
    "y_pca = data_s.values[:,-1]"
   ]
  },
  {
   "cell_type": "code",
   "execution_count": 37,
   "metadata": {},
   "outputs": [],
   "source": [
    "X_train_pca, X_test_pca, y_train_pca, y_test_pca = train_test_split(                            \n",
    "    X_pca, # Valores de X\n",
    "    y_pca, # Valores de Y\n",
    "    test_size=0.3, # Test de 30% cambiar a 30\n",
    "    random_state=1, # Semilla\n",
    "    stratify=data_s.values[:,-1]) # que se mantenga la proporcion en la división"
   ]
  },
  {
   "cell_type": "code",
   "execution_count": 38,
   "metadata": {},
   "outputs": [],
   "source": [
    "X_train_pca, X_val_pca, y_train_pca, y_val_pca = train_test_split(                            \n",
    "    X_train_pca, # Valores de X\n",
    "    y_train_pca, # Valores de Y\n",
    "    test_size=0.33, # Test de 20% cambiar a 30\n",
    "    random_state=1, # Semilla\n",
    "    stratify=y_train_pca) "
   ]
  },
  {
   "cell_type": "code",
   "execution_count": 39,
   "metadata": {},
   "outputs": [],
   "source": [
    "n_estimators = [int(x) for x in np.linspace(start = 50, stop = 2000, num = 15)]\n",
    "max_features = ['log2', 'sqrt']\n",
    "max_depth = [int(x) for x in np.linspace(10, 100, num = 5)] # Mayor profundidad y menor cantidad de datos puede generar overfiting\n",
    "max_depth.append(None)\n",
    "min_samples_split = [2, 5, 10]\n",
    "min_samples_leaf = [2, 4]\n",
    "bootstrap = [True]\n",
    "criterion = ['gini',  'entropy', 'log_loss']\n",
    "\n",
    "random_grid = {'n_estimators': n_estimators,\n",
    "               'max_features': max_features,\n",
    "               'max_depth': max_depth,\n",
    "               'min_samples_split': min_samples_split,\n",
    "               'min_samples_leaf': min_samples_leaf,\n",
    "               'bootstrap': bootstrap,\n",
    "               'criterion': criterion\n",
    "               }"
   ]
  },
  {
   "cell_type": "code",
   "execution_count": 40,
   "metadata": {},
   "outputs": [
    {
     "name": "stdout",
     "output_type": "stream",
     "text": [
      "Fitting 5 folds for each of 50 candidates, totalling 250 fits\n"
     ]
    },
    {
     "ename": "KeyboardInterrupt",
     "evalue": "",
     "output_type": "error",
     "traceback": [
      "\u001b[1;31m---------------------------------------------------------------------------\u001b[0m",
      "\u001b[1;31mKeyboardInterrupt\u001b[0m                         Traceback (most recent call last)",
      "\u001b[1;32mc:\\Users\\santi\\Desktop\\Reto_hack\\MINIONS\\ML_models.ipynb Cell 15\u001b[0m line \u001b[0;36m1\n\u001b[0;32m      <a href='vscode-notebook-cell:/c%3A/Users/santi/Desktop/Reto_hack/MINIONS/ML_models.ipynb#Y151sZmlsZQ%3D%3D?line=0'>1</a>\u001b[0m forestclf_grid_pca \u001b[39m=\u001b[39m RandomForestClassifier()\n\u001b[0;32m      <a href='vscode-notebook-cell:/c%3A/Users/santi/Desktop/Reto_hack/MINIONS/ML_models.ipynb#Y151sZmlsZQ%3D%3D?line=2'>3</a>\u001b[0m rf_random_pca \u001b[39m=\u001b[39m RandomizedSearchCV(\n\u001b[0;32m      <a href='vscode-notebook-cell:/c%3A/Users/santi/Desktop/Reto_hack/MINIONS/ML_models.ipynb#Y151sZmlsZQ%3D%3D?line=3'>4</a>\u001b[0m                               estimator\u001b[39m=\u001b[39mforestclf_grid_pca,\n\u001b[0;32m      <a href='vscode-notebook-cell:/c%3A/Users/santi/Desktop/Reto_hack/MINIONS/ML_models.ipynb#Y151sZmlsZQ%3D%3D?line=4'>5</a>\u001b[0m                               param_distributions\u001b[39m=\u001b[39mrandom_grid,\n\u001b[1;32m   (...)\u001b[0m\n\u001b[0;32m     <a href='vscode-notebook-cell:/c%3A/Users/santi/Desktop/Reto_hack/MINIONS/ML_models.ipynb#Y151sZmlsZQ%3D%3D?line=9'>10</a>\u001b[0m                               n_jobs\u001b[39m=\u001b[39m\u001b[39m-\u001b[39m\u001b[39m1\u001b[39m \u001b[39m# todos los nucleos del computador \u001b[39;00m\n\u001b[0;32m     <a href='vscode-notebook-cell:/c%3A/Users/santi/Desktop/Reto_hack/MINIONS/ML_models.ipynb#Y151sZmlsZQ%3D%3D?line=10'>11</a>\u001b[0m                               )\n\u001b[1;32m---> <a href='vscode-notebook-cell:/c%3A/Users/santi/Desktop/Reto_hack/MINIONS/ML_models.ipynb#Y151sZmlsZQ%3D%3D?line=12'>13</a>\u001b[0m rf_random_pca\u001b[39m.\u001b[39;49mfit(X_train_pca, y_train_pca)\n",
      "File \u001b[1;32m~\\AppData\\Local\\Packages\\PythonSoftwareFoundation.Python.3.11_qbz5n2kfra8p0\\LocalCache\\local-packages\\Python311\\site-packages\\sklearn\\base.py:1152\u001b[0m, in \u001b[0;36m_fit_context.<locals>.decorator.<locals>.wrapper\u001b[1;34m(estimator, *args, **kwargs)\u001b[0m\n\u001b[0;32m   1145\u001b[0m     estimator\u001b[39m.\u001b[39m_validate_params()\n\u001b[0;32m   1147\u001b[0m \u001b[39mwith\u001b[39;00m config_context(\n\u001b[0;32m   1148\u001b[0m     skip_parameter_validation\u001b[39m=\u001b[39m(\n\u001b[0;32m   1149\u001b[0m         prefer_skip_nested_validation \u001b[39mor\u001b[39;00m global_skip_validation\n\u001b[0;32m   1150\u001b[0m     )\n\u001b[0;32m   1151\u001b[0m ):\n\u001b[1;32m-> 1152\u001b[0m     \u001b[39mreturn\u001b[39;00m fit_method(estimator, \u001b[39m*\u001b[39;49margs, \u001b[39m*\u001b[39;49m\u001b[39m*\u001b[39;49mkwargs)\n",
      "File \u001b[1;32m~\\AppData\\Local\\Packages\\PythonSoftwareFoundation.Python.3.11_qbz5n2kfra8p0\\LocalCache\\local-packages\\Python311\\site-packages\\sklearn\\model_selection\\_search.py:898\u001b[0m, in \u001b[0;36mBaseSearchCV.fit\u001b[1;34m(self, X, y, groups, **fit_params)\u001b[0m\n\u001b[0;32m    892\u001b[0m     results \u001b[39m=\u001b[39m \u001b[39mself\u001b[39m\u001b[39m.\u001b[39m_format_results(\n\u001b[0;32m    893\u001b[0m         all_candidate_params, n_splits, all_out, all_more_results\n\u001b[0;32m    894\u001b[0m     )\n\u001b[0;32m    896\u001b[0m     \u001b[39mreturn\u001b[39;00m results\n\u001b[1;32m--> 898\u001b[0m \u001b[39mself\u001b[39;49m\u001b[39m.\u001b[39;49m_run_search(evaluate_candidates)\n\u001b[0;32m    900\u001b[0m \u001b[39m# multimetric is determined here because in the case of a callable\u001b[39;00m\n\u001b[0;32m    901\u001b[0m \u001b[39m# self.scoring the return type is only known after calling\u001b[39;00m\n\u001b[0;32m    902\u001b[0m first_test_score \u001b[39m=\u001b[39m all_out[\u001b[39m0\u001b[39m][\u001b[39m\"\u001b[39m\u001b[39mtest_scores\u001b[39m\u001b[39m\"\u001b[39m]\n",
      "File \u001b[1;32m~\\AppData\\Local\\Packages\\PythonSoftwareFoundation.Python.3.11_qbz5n2kfra8p0\\LocalCache\\local-packages\\Python311\\site-packages\\sklearn\\model_selection\\_search.py:1809\u001b[0m, in \u001b[0;36mRandomizedSearchCV._run_search\u001b[1;34m(self, evaluate_candidates)\u001b[0m\n\u001b[0;32m   1807\u001b[0m \u001b[39mdef\u001b[39;00m \u001b[39m_run_search\u001b[39m(\u001b[39mself\u001b[39m, evaluate_candidates):\n\u001b[0;32m   1808\u001b[0m \u001b[39m    \u001b[39m\u001b[39m\"\"\"Search n_iter candidates from param_distributions\"\"\"\u001b[39;00m\n\u001b[1;32m-> 1809\u001b[0m     evaluate_candidates(\n\u001b[0;32m   1810\u001b[0m         ParameterSampler(\n\u001b[0;32m   1811\u001b[0m             \u001b[39mself\u001b[39;49m\u001b[39m.\u001b[39;49mparam_distributions, \u001b[39mself\u001b[39;49m\u001b[39m.\u001b[39;49mn_iter, random_state\u001b[39m=\u001b[39;49m\u001b[39mself\u001b[39;49m\u001b[39m.\u001b[39;49mrandom_state\n\u001b[0;32m   1812\u001b[0m         )\n\u001b[0;32m   1813\u001b[0m     )\n",
      "File \u001b[1;32m~\\AppData\\Local\\Packages\\PythonSoftwareFoundation.Python.3.11_qbz5n2kfra8p0\\LocalCache\\local-packages\\Python311\\site-packages\\sklearn\\model_selection\\_search.py:845\u001b[0m, in \u001b[0;36mBaseSearchCV.fit.<locals>.evaluate_candidates\u001b[1;34m(candidate_params, cv, more_results)\u001b[0m\n\u001b[0;32m    837\u001b[0m \u001b[39mif\u001b[39;00m \u001b[39mself\u001b[39m\u001b[39m.\u001b[39mverbose \u001b[39m>\u001b[39m \u001b[39m0\u001b[39m:\n\u001b[0;32m    838\u001b[0m     \u001b[39mprint\u001b[39m(\n\u001b[0;32m    839\u001b[0m         \u001b[39m\"\u001b[39m\u001b[39mFitting \u001b[39m\u001b[39m{0}\u001b[39;00m\u001b[39m folds for each of \u001b[39m\u001b[39m{1}\u001b[39;00m\u001b[39m candidates,\u001b[39m\u001b[39m\"\u001b[39m\n\u001b[0;32m    840\u001b[0m         \u001b[39m\"\u001b[39m\u001b[39m totalling \u001b[39m\u001b[39m{2}\u001b[39;00m\u001b[39m fits\u001b[39m\u001b[39m\"\u001b[39m\u001b[39m.\u001b[39mformat(\n\u001b[0;32m    841\u001b[0m             n_splits, n_candidates, n_candidates \u001b[39m*\u001b[39m n_splits\n\u001b[0;32m    842\u001b[0m         )\n\u001b[0;32m    843\u001b[0m     )\n\u001b[1;32m--> 845\u001b[0m out \u001b[39m=\u001b[39m parallel(\n\u001b[0;32m    846\u001b[0m     delayed(_fit_and_score)(\n\u001b[0;32m    847\u001b[0m         clone(base_estimator),\n\u001b[0;32m    848\u001b[0m         X,\n\u001b[0;32m    849\u001b[0m         y,\n\u001b[0;32m    850\u001b[0m         train\u001b[39m=\u001b[39;49mtrain,\n\u001b[0;32m    851\u001b[0m         test\u001b[39m=\u001b[39;49mtest,\n\u001b[0;32m    852\u001b[0m         parameters\u001b[39m=\u001b[39;49mparameters,\n\u001b[0;32m    853\u001b[0m         split_progress\u001b[39m=\u001b[39;49m(split_idx, n_splits),\n\u001b[0;32m    854\u001b[0m         candidate_progress\u001b[39m=\u001b[39;49m(cand_idx, n_candidates),\n\u001b[0;32m    855\u001b[0m         \u001b[39m*\u001b[39;49m\u001b[39m*\u001b[39;49mfit_and_score_kwargs,\n\u001b[0;32m    856\u001b[0m     )\n\u001b[0;32m    857\u001b[0m     \u001b[39mfor\u001b[39;49;00m (cand_idx, parameters), (split_idx, (train, test)) \u001b[39min\u001b[39;49;00m product(\n\u001b[0;32m    858\u001b[0m         \u001b[39menumerate\u001b[39;49m(candidate_params), \u001b[39menumerate\u001b[39;49m(cv\u001b[39m.\u001b[39;49msplit(X, y, groups))\n\u001b[0;32m    859\u001b[0m     )\n\u001b[0;32m    860\u001b[0m )\n\u001b[0;32m    862\u001b[0m \u001b[39mif\u001b[39;00m \u001b[39mlen\u001b[39m(out) \u001b[39m<\u001b[39m \u001b[39m1\u001b[39m:\n\u001b[0;32m    863\u001b[0m     \u001b[39mraise\u001b[39;00m \u001b[39mValueError\u001b[39;00m(\n\u001b[0;32m    864\u001b[0m         \u001b[39m\"\u001b[39m\u001b[39mNo fits were performed. \u001b[39m\u001b[39m\"\u001b[39m\n\u001b[0;32m    865\u001b[0m         \u001b[39m\"\u001b[39m\u001b[39mWas the CV iterator empty? \u001b[39m\u001b[39m\"\u001b[39m\n\u001b[0;32m    866\u001b[0m         \u001b[39m\"\u001b[39m\u001b[39mWere there no candidates?\u001b[39m\u001b[39m\"\u001b[39m\n\u001b[0;32m    867\u001b[0m     )\n",
      "File \u001b[1;32m~\\AppData\\Local\\Packages\\PythonSoftwareFoundation.Python.3.11_qbz5n2kfra8p0\\LocalCache\\local-packages\\Python311\\site-packages\\sklearn\\utils\\parallel.py:65\u001b[0m, in \u001b[0;36mParallel.__call__\u001b[1;34m(self, iterable)\u001b[0m\n\u001b[0;32m     60\u001b[0m config \u001b[39m=\u001b[39m get_config()\n\u001b[0;32m     61\u001b[0m iterable_with_config \u001b[39m=\u001b[39m (\n\u001b[0;32m     62\u001b[0m     (_with_config(delayed_func, config), args, kwargs)\n\u001b[0;32m     63\u001b[0m     \u001b[39mfor\u001b[39;00m delayed_func, args, kwargs \u001b[39min\u001b[39;00m iterable\n\u001b[0;32m     64\u001b[0m )\n\u001b[1;32m---> 65\u001b[0m \u001b[39mreturn\u001b[39;00m \u001b[39msuper\u001b[39;49m()\u001b[39m.\u001b[39;49m\u001b[39m__call__\u001b[39;49m(iterable_with_config)\n",
      "File \u001b[1;32m~\\AppData\\Local\\Packages\\PythonSoftwareFoundation.Python.3.11_qbz5n2kfra8p0\\LocalCache\\local-packages\\Python311\\site-packages\\joblib\\parallel.py:1952\u001b[0m, in \u001b[0;36mParallel.__call__\u001b[1;34m(self, iterable)\u001b[0m\n\u001b[0;32m   1946\u001b[0m \u001b[39m# The first item from the output is blank, but it makes the interpreter\u001b[39;00m\n\u001b[0;32m   1947\u001b[0m \u001b[39m# progress until it enters the Try/Except block of the generator and\u001b[39;00m\n\u001b[0;32m   1948\u001b[0m \u001b[39m# reach the first `yield` statement. This starts the aynchronous\u001b[39;00m\n\u001b[0;32m   1949\u001b[0m \u001b[39m# dispatch of the tasks to the workers.\u001b[39;00m\n\u001b[0;32m   1950\u001b[0m \u001b[39mnext\u001b[39m(output)\n\u001b[1;32m-> 1952\u001b[0m \u001b[39mreturn\u001b[39;00m output \u001b[39mif\u001b[39;00m \u001b[39mself\u001b[39m\u001b[39m.\u001b[39mreturn_generator \u001b[39melse\u001b[39;00m \u001b[39mlist\u001b[39m(output)\n",
      "File \u001b[1;32m~\\AppData\\Local\\Packages\\PythonSoftwareFoundation.Python.3.11_qbz5n2kfra8p0\\LocalCache\\local-packages\\Python311\\site-packages\\joblib\\parallel.py:1595\u001b[0m, in \u001b[0;36mParallel._get_outputs\u001b[1;34m(self, iterator, pre_dispatch)\u001b[0m\n\u001b[0;32m   1592\u001b[0m     \u001b[39myield\u001b[39;00m\n\u001b[0;32m   1594\u001b[0m     \u001b[39mwith\u001b[39;00m \u001b[39mself\u001b[39m\u001b[39m.\u001b[39m_backend\u001b[39m.\u001b[39mretrieval_context():\n\u001b[1;32m-> 1595\u001b[0m         \u001b[39myield from\u001b[39;00m \u001b[39mself\u001b[39m\u001b[39m.\u001b[39m_retrieve()\n\u001b[0;32m   1597\u001b[0m \u001b[39mexcept\u001b[39;00m \u001b[39mGeneratorExit\u001b[39;00m:\n\u001b[0;32m   1598\u001b[0m     \u001b[39m# The generator has been garbage collected before being fully\u001b[39;00m\n\u001b[0;32m   1599\u001b[0m     \u001b[39m# consumed. This aborts the remaining tasks if possible and warn\u001b[39;00m\n\u001b[0;32m   1600\u001b[0m     \u001b[39m# the user if necessary.\u001b[39;00m\n\u001b[0;32m   1601\u001b[0m     \u001b[39mself\u001b[39m\u001b[39m.\u001b[39m_exception \u001b[39m=\u001b[39m \u001b[39mTrue\u001b[39;00m\n",
      "File \u001b[1;32m~\\AppData\\Local\\Packages\\PythonSoftwareFoundation.Python.3.11_qbz5n2kfra8p0\\LocalCache\\local-packages\\Python311\\site-packages\\joblib\\parallel.py:1707\u001b[0m, in \u001b[0;36mParallel._retrieve\u001b[1;34m(self)\u001b[0m\n\u001b[0;32m   1702\u001b[0m \u001b[39m# If the next job is not ready for retrieval yet, we just wait for\u001b[39;00m\n\u001b[0;32m   1703\u001b[0m \u001b[39m# async callbacks to progress.\u001b[39;00m\n\u001b[0;32m   1704\u001b[0m \u001b[39mif\u001b[39;00m ((\u001b[39mlen\u001b[39m(\u001b[39mself\u001b[39m\u001b[39m.\u001b[39m_jobs) \u001b[39m==\u001b[39m \u001b[39m0\u001b[39m) \u001b[39mor\u001b[39;00m\n\u001b[0;32m   1705\u001b[0m     (\u001b[39mself\u001b[39m\u001b[39m.\u001b[39m_jobs[\u001b[39m0\u001b[39m]\u001b[39m.\u001b[39mget_status(\n\u001b[0;32m   1706\u001b[0m         timeout\u001b[39m=\u001b[39m\u001b[39mself\u001b[39m\u001b[39m.\u001b[39mtimeout) \u001b[39m==\u001b[39m TASK_PENDING)):\n\u001b[1;32m-> 1707\u001b[0m     time\u001b[39m.\u001b[39msleep(\u001b[39m0.01\u001b[39m)\n\u001b[0;32m   1708\u001b[0m     \u001b[39mcontinue\u001b[39;00m\n\u001b[0;32m   1710\u001b[0m \u001b[39m# We need to be careful: the job list can be filling up as\u001b[39;00m\n\u001b[0;32m   1711\u001b[0m \u001b[39m# we empty it and Python list are not thread-safe by\u001b[39;00m\n\u001b[0;32m   1712\u001b[0m \u001b[39m# default hence the use of the lock\u001b[39;00m\n",
      "\u001b[1;31mKeyboardInterrupt\u001b[0m: "
     ]
    }
   ],
   "source": [
    "forestclf_grid_pca = RandomForestClassifier()\n",
    "\n",
    "rf_random_pca = RandomizedSearchCV(\n",
    "                              estimator=forestclf_grid_pca,\n",
    "                              param_distributions=random_grid,\n",
    "                              n_iter=50,\n",
    "                              cv=5,\n",
    "                              verbose=2,\n",
    "                              random_state=10,\n",
    "                              n_jobs=-1 # todos los nucleos del computador \n",
    "                              )\n",
    "\n",
    "rf_random_pca.fit(X_train_pca, y_train_pca)"
   ]
  },
  {
   "cell_type": "code",
   "execution_count": null,
   "metadata": {},
   "outputs": [],
   "source": [
    "best_selected_pca = rf_random_pca.best_estimator_"
   ]
  },
  {
   "cell_type": "code",
   "execution_count": null,
   "metadata": {},
   "outputs": [],
   "source": [
    "best_selected_pca.fit(X_train_pca, y_train_pca)"
   ]
  },
  {
   "cell_type": "code",
   "execution_count": null,
   "metadata": {},
   "outputs": [],
   "source": [
    "predicted_pca = best_selected_pca.predict(X_test_pca)"
   ]
  },
  {
   "cell_type": "code",
   "execution_count": null,
   "metadata": {},
   "outputs": [],
   "source": [
    "print(\n",
    "    f\"Classification report for classifier {best_selected_pca}:\\n\"\n",
    "    f\"{metrics.classification_report(y_test_pca, predicted_pca)}\\n\"\n",
    "    )"
   ]
  },
  {
   "cell_type": "code",
   "execution_count": 78,
   "metadata": {},
   "outputs": [
    {
     "name": "stdout",
     "output_type": "stream",
     "text": [
      "(10129, 12)\n",
      "(10129,)\n"
     ]
    }
   ],
   "source": [
    "X = data_s.values[:,:-1]\n",
    "y = data_s.values[:,-1]\n",
    "print(X.shape)\n",
    "print(y.shape)"
   ]
  },
  {
   "cell_type": "code",
   "execution_count": 79,
   "metadata": {},
   "outputs": [],
   "source": [
    "X_train, X_test, y_train, y_test = train_test_split(                            \n",
    "    X, # Valores de X\n",
    "    y, # Valores de Y\n",
    "    test_size=0.3, # Test de 20% cambiar a 30\n",
    "    random_state=1, # Semilla\n",
    "    stratify=data_s.values[:,-1]) # que se mantenga la proporcion en la división"
   ]
  },
  {
   "cell_type": "code",
   "execution_count": 80,
   "metadata": {},
   "outputs": [],
   "source": [
    "X_train, X_val, y_train, y_val = train_test_split(                            \n",
    "    X_train, # Valores de X\n",
    "    y_train, # Valores de Y\n",
    "    test_size=0.33, # Test de 20% cambiar a 30\n",
    "    random_state=1, # Semilla\n",
    "    stratify=y_train) "
   ]
  },
  {
   "attachments": {},
   "cell_type": "markdown",
   "metadata": {},
   "source": [
    "### Árboles de decisión (Grid Search)"
   ]
  },
  {
   "cell_type": "code",
   "execution_count": null,
   "metadata": {},
   "outputs": [],
   "source": [
    "n_estimators = [int(x) for x in np.linspace(start = 50, stop = 2000, num = 30)]\n",
    "max_features = ['log2', 'sqrt']\n",
    "max_depth = [int(x) for x in np.linspace(10, 100, num = 10)] # Mayor profundidad y menor cantidad de datos puede generar overfiting\n",
    "max_depth.append(None)\n",
    "min_samples_split = [2, 5, 10]\n",
    "min_samples_leaf = [2, 4]\n",
    "bootstrap = [True]\n",
    "criterion = ['gini',  'entropy', 'log_loss']\n",
    "\n",
    "random_grid = {'n_estimators': n_estimators,\n",
    "               'max_features': max_features,\n",
    "               'max_depth': max_depth,\n",
    "               'min_samples_split': min_samples_split,\n",
    "               'min_samples_leaf': min_samples_leaf,\n",
    "               'bootstrap': bootstrap,\n",
    "               'criterion': criterion\n",
    "               }"
   ]
  },
  {
   "cell_type": "code",
   "execution_count": null,
   "metadata": {},
   "outputs": [
    {
     "name": "stdout",
     "output_type": "stream",
     "text": [
      "Fitting 5 folds for each of 100 candidates, totalling 500 fits\n"
     ]
    },
    {
     "data": {
      "text/html": [
       "<style>#sk-container-id-1 {color: black;}#sk-container-id-1 pre{padding: 0;}#sk-container-id-1 div.sk-toggleable {background-color: white;}#sk-container-id-1 label.sk-toggleable__label {cursor: pointer;display: block;width: 100%;margin-bottom: 0;padding: 0.3em;box-sizing: border-box;text-align: center;}#sk-container-id-1 label.sk-toggleable__label-arrow:before {content: \"▸\";float: left;margin-right: 0.25em;color: #696969;}#sk-container-id-1 label.sk-toggleable__label-arrow:hover:before {color: black;}#sk-container-id-1 div.sk-estimator:hover label.sk-toggleable__label-arrow:before {color: black;}#sk-container-id-1 div.sk-toggleable__content {max-height: 0;max-width: 0;overflow: hidden;text-align: left;background-color: #f0f8ff;}#sk-container-id-1 div.sk-toggleable__content pre {margin: 0.2em;color: black;border-radius: 0.25em;background-color: #f0f8ff;}#sk-container-id-1 input.sk-toggleable__control:checked~div.sk-toggleable__content {max-height: 200px;max-width: 100%;overflow: auto;}#sk-container-id-1 input.sk-toggleable__control:checked~label.sk-toggleable__label-arrow:before {content: \"▾\";}#sk-container-id-1 div.sk-estimator input.sk-toggleable__control:checked~label.sk-toggleable__label {background-color: #d4ebff;}#sk-container-id-1 div.sk-label input.sk-toggleable__control:checked~label.sk-toggleable__label {background-color: #d4ebff;}#sk-container-id-1 input.sk-hidden--visually {border: 0;clip: rect(1px 1px 1px 1px);clip: rect(1px, 1px, 1px, 1px);height: 1px;margin: -1px;overflow: hidden;padding: 0;position: absolute;width: 1px;}#sk-container-id-1 div.sk-estimator {font-family: monospace;background-color: #f0f8ff;border: 1px dotted black;border-radius: 0.25em;box-sizing: border-box;margin-bottom: 0.5em;}#sk-container-id-1 div.sk-estimator:hover {background-color: #d4ebff;}#sk-container-id-1 div.sk-parallel-item::after {content: \"\";width: 100%;border-bottom: 1px solid gray;flex-grow: 1;}#sk-container-id-1 div.sk-label:hover label.sk-toggleable__label {background-color: #d4ebff;}#sk-container-id-1 div.sk-serial::before {content: \"\";position: absolute;border-left: 1px solid gray;box-sizing: border-box;top: 0;bottom: 0;left: 50%;z-index: 0;}#sk-container-id-1 div.sk-serial {display: flex;flex-direction: column;align-items: center;background-color: white;padding-right: 0.2em;padding-left: 0.2em;position: relative;}#sk-container-id-1 div.sk-item {position: relative;z-index: 1;}#sk-container-id-1 div.sk-parallel {display: flex;align-items: stretch;justify-content: center;background-color: white;position: relative;}#sk-container-id-1 div.sk-item::before, #sk-container-id-1 div.sk-parallel-item::before {content: \"\";position: absolute;border-left: 1px solid gray;box-sizing: border-box;top: 0;bottom: 0;left: 50%;z-index: -1;}#sk-container-id-1 div.sk-parallel-item {display: flex;flex-direction: column;z-index: 1;position: relative;background-color: white;}#sk-container-id-1 div.sk-parallel-item:first-child::after {align-self: flex-end;width: 50%;}#sk-container-id-1 div.sk-parallel-item:last-child::after {align-self: flex-start;width: 50%;}#sk-container-id-1 div.sk-parallel-item:only-child::after {width: 0;}#sk-container-id-1 div.sk-dashed-wrapped {border: 1px dashed gray;margin: 0 0.4em 0.5em 0.4em;box-sizing: border-box;padding-bottom: 0.4em;background-color: white;}#sk-container-id-1 div.sk-label label {font-family: monospace;font-weight: bold;display: inline-block;line-height: 1.2em;}#sk-container-id-1 div.sk-label-container {text-align: center;}#sk-container-id-1 div.sk-container {/* jupyter's `normalize.less` sets `[hidden] { display: none; }` but bootstrap.min.css set `[hidden] { display: none !important; }` so we also need the `!important` here to be able to override the default hidden behavior on the sphinx rendered scikit-learn.org. See: https://github.com/scikit-learn/scikit-learn/issues/21755 */display: inline-block !important;position: relative;}#sk-container-id-1 div.sk-text-repr-fallback {display: none;}</style><div id=\"sk-container-id-1\" class=\"sk-top-container\"><div class=\"sk-text-repr-fallback\"><pre>RandomizedSearchCV(cv=5, estimator=RandomForestClassifier(), n_iter=100,\n",
       "                   n_jobs=-1,\n",
       "                   param_distributions={&#x27;bootstrap&#x27;: [True],\n",
       "                                        &#x27;criterion&#x27;: [&#x27;gini&#x27;, &#x27;entropy&#x27;,\n",
       "                                                      &#x27;log_loss&#x27;],\n",
       "                                        &#x27;max_depth&#x27;: [10, 20, 30, 40, 50, 60,\n",
       "                                                      70, 80, 90, 100, None],\n",
       "                                        &#x27;max_features&#x27;: [&#x27;log2&#x27;, &#x27;sqrt&#x27;],\n",
       "                                        &#x27;min_samples_leaf&#x27;: [2, 4],\n",
       "                                        &#x27;min_samples_split&#x27;: [2, 5, 10],\n",
       "                                        &#x27;n_estimators&#x27;: [50, 117, 184, 251, 318,\n",
       "                                                         386, 453, 520, 587,\n",
       "                                                         655, 722, 789, 856,\n",
       "                                                         924, 991, 1058, 1125,\n",
       "                                                         1193, 1260, 1327, 1394,\n",
       "                                                         1462, 1529, 1596, 1663,\n",
       "                                                         1731, 1798, 1865, 1932,\n",
       "                                                         2000]},\n",
       "                   random_state=10, verbose=2)</pre><b>In a Jupyter environment, please rerun this cell to show the HTML representation or trust the notebook. <br />On GitHub, the HTML representation is unable to render, please try loading this page with nbviewer.org.</b></div><div class=\"sk-container\" hidden><div class=\"sk-item sk-dashed-wrapped\"><div class=\"sk-label-container\"><div class=\"sk-label sk-toggleable\"><input class=\"sk-toggleable__control sk-hidden--visually\" id=\"sk-estimator-id-1\" type=\"checkbox\" ><label for=\"sk-estimator-id-1\" class=\"sk-toggleable__label sk-toggleable__label-arrow\">RandomizedSearchCV</label><div class=\"sk-toggleable__content\"><pre>RandomizedSearchCV(cv=5, estimator=RandomForestClassifier(), n_iter=100,\n",
       "                   n_jobs=-1,\n",
       "                   param_distributions={&#x27;bootstrap&#x27;: [True],\n",
       "                                        &#x27;criterion&#x27;: [&#x27;gini&#x27;, &#x27;entropy&#x27;,\n",
       "                                                      &#x27;log_loss&#x27;],\n",
       "                                        &#x27;max_depth&#x27;: [10, 20, 30, 40, 50, 60,\n",
       "                                                      70, 80, 90, 100, None],\n",
       "                                        &#x27;max_features&#x27;: [&#x27;log2&#x27;, &#x27;sqrt&#x27;],\n",
       "                                        &#x27;min_samples_leaf&#x27;: [2, 4],\n",
       "                                        &#x27;min_samples_split&#x27;: [2, 5, 10],\n",
       "                                        &#x27;n_estimators&#x27;: [50, 117, 184, 251, 318,\n",
       "                                                         386, 453, 520, 587,\n",
       "                                                         655, 722, 789, 856,\n",
       "                                                         924, 991, 1058, 1125,\n",
       "                                                         1193, 1260, 1327, 1394,\n",
       "                                                         1462, 1529, 1596, 1663,\n",
       "                                                         1731, 1798, 1865, 1932,\n",
       "                                                         2000]},\n",
       "                   random_state=10, verbose=2)</pre></div></div></div><div class=\"sk-parallel\"><div class=\"sk-parallel-item\"><div class=\"sk-item\"><div class=\"sk-label-container\"><div class=\"sk-label sk-toggleable\"><input class=\"sk-toggleable__control sk-hidden--visually\" id=\"sk-estimator-id-2\" type=\"checkbox\" ><label for=\"sk-estimator-id-2\" class=\"sk-toggleable__label sk-toggleable__label-arrow\">estimator: RandomForestClassifier</label><div class=\"sk-toggleable__content\"><pre>RandomForestClassifier()</pre></div></div></div><div class=\"sk-serial\"><div class=\"sk-item\"><div class=\"sk-estimator sk-toggleable\"><input class=\"sk-toggleable__control sk-hidden--visually\" id=\"sk-estimator-id-3\" type=\"checkbox\" ><label for=\"sk-estimator-id-3\" class=\"sk-toggleable__label sk-toggleable__label-arrow\">RandomForestClassifier</label><div class=\"sk-toggleable__content\"><pre>RandomForestClassifier()</pre></div></div></div></div></div></div></div></div></div></div>"
      ],
      "text/plain": [
       "RandomizedSearchCV(cv=5, estimator=RandomForestClassifier(), n_iter=100,\n",
       "                   n_jobs=-1,\n",
       "                   param_distributions={'bootstrap': [True],\n",
       "                                        'criterion': ['gini', 'entropy',\n",
       "                                                      'log_loss'],\n",
       "                                        'max_depth': [10, 20, 30, 40, 50, 60,\n",
       "                                                      70, 80, 90, 100, None],\n",
       "                                        'max_features': ['log2', 'sqrt'],\n",
       "                                        'min_samples_leaf': [2, 4],\n",
       "                                        'min_samples_split': [2, 5, 10],\n",
       "                                        'n_estimators': [50, 117, 184, 251, 318,\n",
       "                                                         386, 453, 520, 587,\n",
       "                                                         655, 722, 789, 856,\n",
       "                                                         924, 991, 1058, 1125,\n",
       "                                                         1193, 1260, 1327, 1394,\n",
       "                                                         1462, 1529, 1596, 1663,\n",
       "                                                         1731, 1798, 1865, 1932,\n",
       "                                                         2000]},\n",
       "                   random_state=10, verbose=2)"
      ]
     },
     "execution_count": 10,
     "metadata": {},
     "output_type": "execute_result"
    }
   ],
   "source": [
    "forestclf_grid = RandomForestClassifier()\n",
    "\n",
    "rf_random = RandomizedSearchCV(\n",
    "                              estimator=forestclf_grid,\n",
    "                              param_distributions=random_grid,\n",
    "                              n_iter=100,\n",
    "                              cv=5,\n",
    "                              verbose=2,\n",
    "                              random_state=10,\n",
    "                              n_jobs=-1 # todos los nucleos del computador \n",
    "                              )\n",
    "\n",
    "rf_random.fit(X_train, y_train)"
   ]
  },
  {
   "cell_type": "code",
   "execution_count": 81,
   "metadata": {},
   "outputs": [],
   "source": [
    "best_selected = rf_random.best_estimator_"
   ]
  },
  {
   "cell_type": "code",
   "execution_count": 82,
   "metadata": {},
   "outputs": [
    {
     "data": {
      "text/html": [
       "<style>#sk-container-id-4 {color: black;}#sk-container-id-4 pre{padding: 0;}#sk-container-id-4 div.sk-toggleable {background-color: white;}#sk-container-id-4 label.sk-toggleable__label {cursor: pointer;display: block;width: 100%;margin-bottom: 0;padding: 0.3em;box-sizing: border-box;text-align: center;}#sk-container-id-4 label.sk-toggleable__label-arrow:before {content: \"▸\";float: left;margin-right: 0.25em;color: #696969;}#sk-container-id-4 label.sk-toggleable__label-arrow:hover:before {color: black;}#sk-container-id-4 div.sk-estimator:hover label.sk-toggleable__label-arrow:before {color: black;}#sk-container-id-4 div.sk-toggleable__content {max-height: 0;max-width: 0;overflow: hidden;text-align: left;background-color: #f0f8ff;}#sk-container-id-4 div.sk-toggleable__content pre {margin: 0.2em;color: black;border-radius: 0.25em;background-color: #f0f8ff;}#sk-container-id-4 input.sk-toggleable__control:checked~div.sk-toggleable__content {max-height: 200px;max-width: 100%;overflow: auto;}#sk-container-id-4 input.sk-toggleable__control:checked~label.sk-toggleable__label-arrow:before {content: \"▾\";}#sk-container-id-4 div.sk-estimator input.sk-toggleable__control:checked~label.sk-toggleable__label {background-color: #d4ebff;}#sk-container-id-4 div.sk-label input.sk-toggleable__control:checked~label.sk-toggleable__label {background-color: #d4ebff;}#sk-container-id-4 input.sk-hidden--visually {border: 0;clip: rect(1px 1px 1px 1px);clip: rect(1px, 1px, 1px, 1px);height: 1px;margin: -1px;overflow: hidden;padding: 0;position: absolute;width: 1px;}#sk-container-id-4 div.sk-estimator {font-family: monospace;background-color: #f0f8ff;border: 1px dotted black;border-radius: 0.25em;box-sizing: border-box;margin-bottom: 0.5em;}#sk-container-id-4 div.sk-estimator:hover {background-color: #d4ebff;}#sk-container-id-4 div.sk-parallel-item::after {content: \"\";width: 100%;border-bottom: 1px solid gray;flex-grow: 1;}#sk-container-id-4 div.sk-label:hover label.sk-toggleable__label {background-color: #d4ebff;}#sk-container-id-4 div.sk-serial::before {content: \"\";position: absolute;border-left: 1px solid gray;box-sizing: border-box;top: 0;bottom: 0;left: 50%;z-index: 0;}#sk-container-id-4 div.sk-serial {display: flex;flex-direction: column;align-items: center;background-color: white;padding-right: 0.2em;padding-left: 0.2em;position: relative;}#sk-container-id-4 div.sk-item {position: relative;z-index: 1;}#sk-container-id-4 div.sk-parallel {display: flex;align-items: stretch;justify-content: center;background-color: white;position: relative;}#sk-container-id-4 div.sk-item::before, #sk-container-id-4 div.sk-parallel-item::before {content: \"\";position: absolute;border-left: 1px solid gray;box-sizing: border-box;top: 0;bottom: 0;left: 50%;z-index: -1;}#sk-container-id-4 div.sk-parallel-item {display: flex;flex-direction: column;z-index: 1;position: relative;background-color: white;}#sk-container-id-4 div.sk-parallel-item:first-child::after {align-self: flex-end;width: 50%;}#sk-container-id-4 div.sk-parallel-item:last-child::after {align-self: flex-start;width: 50%;}#sk-container-id-4 div.sk-parallel-item:only-child::after {width: 0;}#sk-container-id-4 div.sk-dashed-wrapped {border: 1px dashed gray;margin: 0 0.4em 0.5em 0.4em;box-sizing: border-box;padding-bottom: 0.4em;background-color: white;}#sk-container-id-4 div.sk-label label {font-family: monospace;font-weight: bold;display: inline-block;line-height: 1.2em;}#sk-container-id-4 div.sk-label-container {text-align: center;}#sk-container-id-4 div.sk-container {/* jupyter's `normalize.less` sets `[hidden] { display: none; }` but bootstrap.min.css set `[hidden] { display: none !important; }` so we also need the `!important` here to be able to override the default hidden behavior on the sphinx rendered scikit-learn.org. See: https://github.com/scikit-learn/scikit-learn/issues/21755 */display: inline-block !important;position: relative;}#sk-container-id-4 div.sk-text-repr-fallback {display: none;}</style><div id=\"sk-container-id-4\" class=\"sk-top-container\"><div class=\"sk-text-repr-fallback\"><pre>RandomForestClassifier(max_depth=10, min_samples_leaf=2, min_samples_split=5,\n",
       "                       n_estimators=2000)</pre><b>In a Jupyter environment, please rerun this cell to show the HTML representation or trust the notebook. <br />On GitHub, the HTML representation is unable to render, please try loading this page with nbviewer.org.</b></div><div class=\"sk-container\" hidden><div class=\"sk-item\"><div class=\"sk-estimator sk-toggleable\"><input class=\"sk-toggleable__control sk-hidden--visually\" id=\"sk-estimator-id-6\" type=\"checkbox\" checked><label for=\"sk-estimator-id-6\" class=\"sk-toggleable__label sk-toggleable__label-arrow\">RandomForestClassifier</label><div class=\"sk-toggleable__content\"><pre>RandomForestClassifier(max_depth=10, min_samples_leaf=2, min_samples_split=5,\n",
       "                       n_estimators=2000)</pre></div></div></div></div></div>"
      ],
      "text/plain": [
       "RandomForestClassifier(max_depth=10, min_samples_leaf=2, min_samples_split=5,\n",
       "                       n_estimators=2000)"
      ]
     },
     "execution_count": 82,
     "metadata": {},
     "output_type": "execute_result"
    }
   ],
   "source": [
    "best_selected.fit(X_train, y_train)"
   ]
  },
  {
   "cell_type": "code",
   "execution_count": 83,
   "metadata": {},
   "outputs": [],
   "source": [
    "predicted = best_selected.predict(X_test)"
   ]
  },
  {
   "cell_type": "code",
   "execution_count": 50,
   "metadata": {},
   "outputs": [
    {
     "name": "stdout",
     "output_type": "stream",
     "text": [
      "Classification report for classifier RandomForestClassifier(max_depth=10, min_samples_leaf=2, min_samples_split=5,\n",
      "                       n_estimators=2000):\n",
      "              precision    recall  f1-score   support\n",
      "\n",
      "         0.0       1.00      1.00      1.00       822\n",
      "         1.0       0.98      1.00      0.99        45\n",
      "         2.0       0.99      0.96      0.97        75\n",
      "         3.0       0.97      0.99      0.98        70\n",
      "\n",
      "    accuracy                           1.00      1012\n",
      "   macro avg       0.98      0.99      0.99      1012\n",
      "weighted avg       1.00      1.00      1.00      1012\n",
      "\n",
      "\n"
     ]
    }
   ],
   "source": [
    "print(\n",
    "    f\"Classification report for classifier {best_selected}:\\n\"\n",
    "    f\"{metrics.classification_report(y_test, predicted)}\\n\"\n",
    "    )"
   ]
  },
  {
   "cell_type": "code",
   "execution_count": 84,
   "metadata": {},
   "outputs": [],
   "source": [
    "predicted_val = best_selected.predict(X_val)"
   ]
  },
  {
   "cell_type": "code",
   "execution_count": 52,
   "metadata": {},
   "outputs": [
    {
     "name": "stdout",
     "output_type": "stream",
     "text": [
      "Classification report for classifier RandomForestClassifier(max_depth=10, min_samples_leaf=2, min_samples_split=5,\n",
      "                       n_estimators=2000):\n",
      "              precision    recall  f1-score   support\n",
      "\n",
      "         0.0       1.00      1.00      1.00      1901\n",
      "         1.0       1.00      1.00      1.00       106\n",
      "         2.0       0.99      0.98      0.99       173\n",
      "         3.0       0.98      0.99      0.99       160\n",
      "\n",
      "    accuracy                           1.00      2340\n",
      "   macro avg       0.99      0.99      0.99      2340\n",
      "weighted avg       1.00      1.00      1.00      2340\n",
      "\n",
      "\n"
     ]
    }
   ],
   "source": [
    "print(\n",
    "    f\"Classification report for classifier {best_selected}:\\n\"\n",
    "    f\"{metrics.classification_report(y_val, predicted_val)}\\n\"\n",
    "    )"
   ]
  },
  {
   "cell_type": "code",
   "execution_count": 54,
   "metadata": {},
   "outputs": [],
   "source": [
    "scores = cross_val_score(\n",
    "                        estimator=best_selected,\n",
    "                        X=X_train,\n",
    "                        y=y_train,\n",
    "                        cv=10,\n",
    "                        n_jobs=-1\n",
    "                        )"
   ]
  },
  {
   "cell_type": "code",
   "execution_count": 103,
   "metadata": {},
   "outputs": [],
   "source": [
    "scores_f1 = cross_val_score(\n",
    "                        estimator=best_selected,\n",
    "                        X=X_test,\n",
    "                        y=y_test,\n",
    "                        cv=10,\n",
    "                        n_jobs=-1,\n",
    "                        scoring='recall_weighted'\n",
    "                        )"
   ]
  },
  {
   "cell_type": "code",
   "execution_count": 97,
   "metadata": {},
   "outputs": [
    {
     "name": "stdout",
     "output_type": "stream",
     "text": [
      "CV accuracy scores: [0.99145299 0.99145299 0.9957265  1.         1.         0.99145299\n",
      " 1.         0.99145299 0.9957265  0.99145299]\n"
     ]
    }
   ],
   "source": [
    "print('CV accuracy scores: %s' % scores)"
   ]
  },
  {
   "cell_type": "code",
   "execution_count": 105,
   "metadata": {},
   "outputs": [
    {
     "name": "stdout",
     "output_type": "stream",
     "text": [
      "CV f1 score scores: [0.99013158 0.99342105 0.99671053 0.99671053 0.99671053 0.99013158\n",
      " 0.99013158 1.         0.99342105 0.99669967]\n"
     ]
    }
   ],
   "source": [
    "print('CV f1 score scores: %s' % scores_f1)"
   ]
  },
  {
   "cell_type": "code",
   "execution_count": 106,
   "metadata": {},
   "outputs": [
    {
     "name": "stdout",
     "output_type": "stream",
     "text": [
      "\n",
      "CV accuracy: 0.994 +/- 0.003\n"
     ]
    }
   ],
   "source": [
    "print('\\nCV accuracy: %.3f +/- %.3f' %\n",
    "    (np.mean(scores_f1), np.std(scores_f1)))"
   ]
  },
  {
   "cell_type": "code",
   "execution_count": 57,
   "metadata": {},
   "outputs": [
    {
     "name": "stdout",
     "output_type": "stream",
     "text": [
      "\n",
      "CV accuracy: 0.975 +/- 0.033\n"
     ]
    }
   ],
   "source": [
    "print('\\nCV accuracy: %.3f +/- %.3f' %\n",
    "    (np.mean(scores), np.std(scores)))"
   ]
  },
  {
   "cell_type": "code",
   "execution_count": 58,
   "metadata": {},
   "outputs": [],
   "source": [
    "scores = cross_val_score(\n",
    "                        estimator=best_selected,\n",
    "                        X=X_test,\n",
    "                        y=y_test,\n",
    "                        cv=10,\n",
    "                        n_jobs=-1\n",
    "                        )"
   ]
  },
  {
   "cell_type": "code",
   "execution_count": 59,
   "metadata": {},
   "outputs": [
    {
     "name": "stdout",
     "output_type": "stream",
     "text": [
      "CV accuracy scores: [0.96078431 0.96078431 0.94059406 0.99009901 1.         0.97029703\n",
      " 1.         0.96039604 1.         0.91089109]\n"
     ]
    }
   ],
   "source": [
    "print('CV accuracy scores: %s' % scores)"
   ]
  },
  {
   "cell_type": "code",
   "execution_count": 60,
   "metadata": {},
   "outputs": [
    {
     "name": "stdout",
     "output_type": "stream",
     "text": [
      "\n",
      "CV accuracy: 0.969 +/- 0.028\n"
     ]
    }
   ],
   "source": [
    "print('\\nCV accuracy: %.3f +/- %.3f' %\n",
    "    (np.mean(scores), np.std(scores)))"
   ]
  },
  {
   "cell_type": "code",
   "execution_count": 64,
   "metadata": {},
   "outputs": [],
   "source": [
    "scores = cross_val_score(\n",
    "                        estimator=best_selected,\n",
    "                        X=X_val,\n",
    "                        y=y_val,\n",
    "                        cv=10,\n",
    "                        n_jobs=-1\n",
    "                        )"
   ]
  },
  {
   "cell_type": "code",
   "execution_count": 65,
   "metadata": {},
   "outputs": [
    {
     "name": "stdout",
     "output_type": "stream",
     "text": [
      "\n",
      "CV accuracy: 0.995 +/- 0.004\n"
     ]
    }
   ],
   "source": [
    "print('\\nCV accuracy: %.3f +/- %.3f' %\n",
    "    (np.mean(scores), np.std(scores)))"
   ]
  },
  {
   "cell_type": "code",
   "execution_count": 66,
   "metadata": {},
   "outputs": [
    {
     "name": "stdout",
     "output_type": "stream",
     "text": [
      "[[822   0   0   0]\n",
      " [  0  45   0   0]\n",
      " [  0   1  72   2]\n",
      " [  0   0   1  69]]\n"
     ]
    },
    {
     "data": {
      "image/png": "[encoded data removed]",
      "text/plain": [
       "<Figure size 640x480 with 2 Axes>"
      ]
     },
     "metadata": {},
     "output_type": "display_data"
    }
   ],
   "source": [
    "from sklearn.metrics import confusion_matrix\n",
    "CM = confusion_matrix(y_test, predicted)\n",
    "print(CM)\n",
    "import seaborn\n",
    "seaborn.heatmap(CM,annot=True)\n",
    "plt.show()"
   ]
  },
  {
   "cell_type": "code",
   "execution_count": 67,
   "metadata": {},
   "outputs": [
    {
     "name": "stdout",
     "output_type": "stream",
     "text": [
      "[[1901    0    0    0]\n",
      " [   0  106    0    0]\n",
      " [   0    0  170    3]\n",
      " [   0    0    1  159]]\n"
     ]
    },
    {
     "data": {
      "image/png": "[encoded data removed]",
      "text/plain": [
       "<Figure size 640x480 with 2 Axes>"
      ]
     },
     "metadata": {},
     "output_type": "display_data"
    }
   ],
   "source": [
    "from sklearn.metrics import confusion_matrix\n",
    "CM = confusion_matrix(y_val, predicted_val)\n",
    "print(CM)\n",
    "import seaborn\n",
    "seaborn.heatmap(CM,annot=True)\n",
    "plt.show()"
   ]
  },
  {
   "attachments": {},
   "cell_type": "markdown",
   "metadata": {},
   "source": [
    "### Árboles de decisión (Boruta)"
   ]
  },
  {
   "cell_type": "code",
   "execution_count": null,
   "metadata": {},
   "outputs": [],
   "source": [
    "feat_selector = BorutaPy(\n",
    "                        verbose=2,\n",
    "                        estimator=best_selected,\n",
    "                        max_iter=100\n",
    "                        )"
   ]
  },
  {
   "cell_type": "code",
   "execution_count": null,
   "metadata": {},
   "outputs": [],
   "source": [
    "feat_selector.fit(X_train, y_train)"
   ]
  },
  {
   "cell_type": "code",
   "execution_count": null,
   "metadata": {},
   "outputs": [],
   "source": [
    "selected_features = []\n",
    "print(\"\\n------Support and Ranking for each feature------\")\n",
    "for i in range(len(feat_selector.support_)):\n",
    "    if feat_selector.support_[i]:\n",
    "        print(\"Passes the test: \", data.columns[i],\n",
    "              \" - Ranking: \", feat_selector.ranking_[i])\n",
    "        selected_features.append(data.columns[i])"
   ]
  },
  {
   "cell_type": "code",
   "execution_count": null,
   "metadata": {},
   "outputs": [],
   "source": [
    "X_transform = feat_selector.transform(X_train)"
   ]
  },
  {
   "cell_type": "code",
   "execution_count": null,
   "metadata": {},
   "outputs": [],
   "source": [
    "best_selected.fit(X_transform, y_train)"
   ]
  },
  {
   "cell_type": "code",
   "execution_count": null,
   "metadata": {},
   "outputs": [],
   "source": [
    "selected_features = [data.columns.get_loc(c) for c in selected_features if c in data]\n",
    "selected_features"
   ]
  },
  {
   "cell_type": "code",
   "execution_count": null,
   "metadata": {},
   "outputs": [],
   "source": [
    "predicted = best_selected.predict(X_test[:,selected_features])"
   ]
  },
  {
   "cell_type": "code",
   "execution_count": null,
   "metadata": {},
   "outputs": [],
   "source": [
    "print(\n",
    "    f\"Classification report for classifier {best_selected}:\\n\"\n",
    "    f\"{metrics.classification_report(y_test, predicted)}\\n\"\n",
    ")"
   ]
  },
  {
   "cell_type": "code",
   "execution_count": null,
   "metadata": {},
   "outputs": [],
   "source": [
    "scores = cross_val_score(estimator=best_selected,\n",
    "                        X=X_transform,\n",
    "                        y=y_train,\n",
    "                        cv=10,\n",
    "                        n_jobs=-1)"
   ]
  },
  {
   "cell_type": "code",
   "execution_count": null,
   "metadata": {},
   "outputs": [],
   "source": [
    "print('CV accuracy scores: %s' % scores)"
   ]
  },
  {
   "cell_type": "code",
   "execution_count": null,
   "metadata": {},
   "outputs": [],
   "source": [
    "print('\\nCV accuracy: %.3f +/- %.3f' %\n",
    "    (np.mean(scores), np.std(scores)))"
   ]
  },
  {
   "cell_type": "code",
   "execution_count": null,
   "metadata": {},
   "outputs": [],
   "source": [
    "train_sizes, train_scores, test_scores = \\\n",
    "    learning_curve(\n",
    "                  estimator=best_selected,\n",
    "                  X=X_transform,\n",
    "                  y=y_train,\n",
    "                  train_sizes=np.linspace(0.1, 1, 10),\n",
    "                  cv=10,\n",
    "                  n_jobs=-1\n",
    "                  )\n",
    "train_mean = np.mean(train_scores, axis=1)\n",
    "train_std = np.std(train_scores, axis=1)\n",
    "test_mean = np.mean(test_scores, axis=1)\n",
    "test_std = np.std(test_scores, axis=1)\n",
    "\n",
    "plt.plot(\n",
    "        train_sizes,\n",
    "        train_mean,\n",
    "        color='blue',\n",
    "        marker='o',\n",
    "        markersize=5,\n",
    "        label='training accuracy'\n",
    "        )\n",
    "\n",
    "plt.fill_between(\n",
    "                train_sizes,\n",
    "                train_mean + train_std,\n",
    "                train_mean - train_std,\n",
    "                alpha=0.15,\n",
    "                color='blue'\n",
    "                )\n",
    "\n",
    "plt.plot(\n",
    "        train_sizes,\n",
    "        test_mean,\n",
    "        color='green',\n",
    "        linestyle='--',\n",
    "        marker='s',\n",
    "        markersize=5,\n",
    "        label='validation accuracy'\n",
    "        )\n",
    "\n",
    "plt.fill_between(\n",
    "                train_sizes,\n",
    "                test_mean + test_std,\n",
    "                test_mean - test_std,\n",
    "                alpha=0.15,\n",
    "                color='green'\n",
    "                )\n",
    "\n",
    "plt.grid()\n",
    "plt.xlabel('number of training samples')\n",
    "plt.ylabel('Accuracy')\n",
    "plt.legend(loc='lower right')\n",
    "plt.ylim([0.5, 1.0])\n",
    "plt.show()"
   ]
  },
  {
   "attachments": {},
   "cell_type": "markdown",
   "metadata": {},
   "source": [
    "### Selección de caracteristicas con árboles de decisión"
   ]
  },
  {
   "cell_type": "code",
   "execution_count": null,
   "metadata": {},
   "outputs": [],
   "source": [
    "nombres_columnas = data.columns[:-1]\n",
    "best_selected.fit(X_train, y_train)\n",
    "features_scores = best_selected.feature_importances_\n",
    "features_scores\n",
    "index = np.argsort(features_scores)[::-1]\n",
    "sorted_names = []\n",
    "\n",
    "for f in range(X_train.shape[1]):\n",
    "\n",
    "    sorted_names.append(nombres_columnas[index[f]])\n",
    "    print(\"%2d) %-*s %f\" % (f + 1, 30,\n",
    "                        nombres_columnas[index[f]],\n",
    "                        features_scores[index[f]]))\n",
    "    \n",
    "plt.title('Importancia de la caracteristica')\n",
    "\n",
    "plt.bar(range(X_train.shape[1]),\n",
    "    features_scores[index],\n",
    "    align='center')\n",
    "\n",
    "plt.xticks(range(X_train.shape[1]),\n",
    "    nombres_columnas[index],\n",
    "    rotation=90)\n",
    "\n",
    "plt.xlim([-1, 10])\n",
    "\n",
    "plt.tight_layout()\n",
    "\n",
    "plt.show()"
   ]
  },
  {
   "cell_type": "code",
   "execution_count": null,
   "metadata": {},
   "outputs": [],
   "source": [
    "acc_per_feature = []\n",
    "std_per_feature = []\n",
    "\n",
    "for index, feature_name in enumerate(sorted_names,start=1):\n",
    "\n",
    "    input_features_names = sorted_names[:index]\n",
    "    input_features_index = [data.columns.get_loc(c) for c \n",
    "                      in input_features_names if c in data]\n",
    "    best_selected.fit(X_train[:, input_features_index], y_train)\n",
    "    scores = cross_val_score(\n",
    "                        estimator=best_selected,\n",
    "                        X=X_train[:, input_features_index],\n",
    "                        y=y_train,\n",
    "                        cv=10,\n",
    "                        n_jobs=-1\n",
    "                        )\n",
    "    acc_per_feature.append(np.mean(scores))\n",
    "    std_per_feature.append(np.std(scores))\n",
    "\n",
    "plt.plot(\n",
    "        range(1, len(sorted_names)),\n",
    "        acc_per_feature,\n",
    "        color='red'\n",
    "        ) \n",
    "\n",
    "plt.fill_between(\n",
    "                range(1, len(sorted_names)),\n",
    "                acc_per_feature + std_per_feature,\n",
    "                acc_per_feature - std_per_feature,\n",
    "                alpha=0.15,\n",
    "                color='red'\n",
    "                )\n",
    "\n",
    "plt.grid()"
   ]
  },
  {
   "attachments": {},
   "cell_type": "markdown",
   "metadata": {},
   "source": [
    "### SVM (Grid Search)"
   ]
  },
  {
   "cell_type": "code",
   "execution_count": 68,
   "metadata": {},
   "outputs": [
    {
     "name": "stderr",
     "output_type": "stream",
     "text": [
      "C:\\Users\\santi\\AppData\\Local\\Packages\\PythonSoftwareFoundation.Python.3.11_qbz5n2kfra8p0\\LocalCache\\local-packages\\Python311\\site-packages\\sklearn\\model_selection\\_validation.py:425: FitFailedWarning: \n",
      "120 fits failed out of a total of 960.\n",
      "The score on these train-test partitions for these parameters will be set to nan.\n",
      "If these failures are not expected, you can try to debug them by setting error_score='raise'.\n",
      "\n",
      "Below are more details about the failures:\n",
      "--------------------------------------------------------------------------------\n",
      "42 fits failed with the following error:\n",
      "Traceback (most recent call last):\n",
      "  File \"C:\\Users\\santi\\AppData\\Local\\Packages\\PythonSoftwareFoundation.Python.3.11_qbz5n2kfra8p0\\LocalCache\\local-packages\\Python311\\site-packages\\sklearn\\model_selection\\_validation.py\", line 729, in _fit_and_score\n",
      "    estimator.fit(X_train, y_train, **fit_params)\n",
      "  File \"C:\\Users\\santi\\AppData\\Local\\Packages\\PythonSoftwareFoundation.Python.3.11_qbz5n2kfra8p0\\LocalCache\\local-packages\\Python311\\site-packages\\sklearn\\base.py\", line 1145, in wrapper\n",
      "    estimator._validate_params()\n",
      "  File \"C:\\Users\\santi\\AppData\\Local\\Packages\\PythonSoftwareFoundation.Python.3.11_qbz5n2kfra8p0\\LocalCache\\local-packages\\Python311\\site-packages\\sklearn\\base.py\", line 638, in _validate_params\n",
      "    validate_parameter_constraints(\n",
      "  File \"C:\\Users\\santi\\AppData\\Local\\Packages\\PythonSoftwareFoundation.Python.3.11_qbz5n2kfra8p0\\LocalCache\\local-packages\\Python311\\site-packages\\sklearn\\utils\\_param_validation.py\", line 96, in validate_parameter_constraints\n",
      "    raise InvalidParameterError(\n",
      "sklearn.utils._param_validation.InvalidParameterError: The 'gamma' parameter of SVC must be a str among {'auto', 'scale'} or a float in the range [0.0, inf). Got 'Auto' instead.\n",
      "\n",
      "--------------------------------------------------------------------------------\n",
      "78 fits failed with the following error:\n",
      "Traceback (most recent call last):\n",
      "  File \"C:\\Users\\santi\\AppData\\Local\\Packages\\PythonSoftwareFoundation.Python.3.11_qbz5n2kfra8p0\\LocalCache\\local-packages\\Python311\\site-packages\\sklearn\\model_selection\\_validation.py\", line 729, in _fit_and_score\n",
      "    estimator.fit(X_train, y_train, **fit_params)\n",
      "  File \"C:\\Users\\santi\\AppData\\Local\\Packages\\PythonSoftwareFoundation.Python.3.11_qbz5n2kfra8p0\\LocalCache\\local-packages\\Python311\\site-packages\\sklearn\\base.py\", line 1145, in wrapper\n",
      "    estimator._validate_params()\n",
      "  File \"C:\\Users\\santi\\AppData\\Local\\Packages\\PythonSoftwareFoundation.Python.3.11_qbz5n2kfra8p0\\LocalCache\\local-packages\\Python311\\site-packages\\sklearn\\base.py\", line 638, in _validate_params\n",
      "    validate_parameter_constraints(\n",
      "  File \"C:\\Users\\santi\\AppData\\Local\\Packages\\PythonSoftwareFoundation.Python.3.11_qbz5n2kfra8p0\\LocalCache\\local-packages\\Python311\\site-packages\\sklearn\\utils\\_param_validation.py\", line 96, in validate_parameter_constraints\n",
      "    raise InvalidParameterError(\n",
      "sklearn.utils._param_validation.InvalidParameterError: The 'gamma' parameter of SVC must be a str among {'scale', 'auto'} or a float in the range [0.0, inf). Got 'Auto' instead.\n",
      "\n",
      "  warnings.warn(some_fits_failed_message, FitFailedWarning)\n",
      "C:\\Users\\santi\\AppData\\Local\\Packages\\PythonSoftwareFoundation.Python.3.11_qbz5n2kfra8p0\\LocalCache\\local-packages\\Python311\\site-packages\\sklearn\\model_selection\\_search.py:979: UserWarning: One or more of the test scores are non-finite: [0.8869142  0.81232861 0.97136052 0.85805313 0.98233662 0.97378134\n",
      " 0.92992169 0.9608419  0.81430434 0.95502906 0.81232861 0.95502918\n",
      "        nan        nan 0.98167837 0.97312333 0.96137811 0.81232861\n",
      " 0.98101758 0.91980099 0.9812429  0.96994158 0.9283848  0.96237771\n",
      " 0.82233015 0.95502906 0.81331581 0.95502918        nan        nan\n",
      " 0.9804756  0.97049042 0.98650353 0.81232861 0.98727733 0.95315214\n",
      " 0.97520847 0.9609483  0.93057959 0.95502918 0.82825698 0.95502906\n",
      " 0.81463196 0.95502918        nan        nan 0.97520847 0.96171609\n",
      " 0.98530148 0.85805313 0.97630833 0.97378134 0.97378255 0.9608419\n",
      " 0.93112819 0.95502918 0.82825698 0.95502906 0.81463196 0.95502918\n",
      "        nan        nan 0.9736729  0.96073189 0.97718829 0.91980099\n",
      " 0.97411378 0.96994158 0.96807911 0.96248736 0.93167716 0.95502918\n",
      " 0.82825698 0.95502906 0.81463196 0.95502918        nan        nan\n",
      " 0.96851782 0.96292596 0.97773665 0.95315214 0.97027498 0.9609483\n",
      " 0.96314032 0.95502918 0.93167716 0.95502918 0.82825698 0.95502906\n",
      " 0.81463196 0.95502918        nan        nan 0.96281137 0.95502918]\n",
      "  warnings.warn(\n"
     ]
    }
   ],
   "source": [
    "svm_param_grid = {'C': list(np.logspace(-1, 4, 6)), \n",
    "                 'gamma': list(np.logspace(-3, 2, 6)) + ['Auto'] + ['scale'],\n",
    "                 'kernel': ['rbf', 'poly']} \n",
    "\n",
    "svc = SVC()\n",
    "svc_clf = GridSearchCV(\n",
    "    \n",
    "                      svc,\n",
    "                      svm_param_grid,\n",
    "                      n_jobs=-1,\n",
    "                      cv=10\n",
    "                      )\n",
    "\n",
    "svm_best_clf = svc_clf.fit(X_train, y_train)\n",
    "best_model = svm_best_clf.best_estimator_"
   ]
  },
  {
   "cell_type": "code",
   "execution_count": 70,
   "metadata": {},
   "outputs": [
    {
     "data": {
      "text/html": [
       "<style>#sk-container-id-3 {color: black;}#sk-container-id-3 pre{padding: 0;}#sk-container-id-3 div.sk-toggleable {background-color: white;}#sk-container-id-3 label.sk-toggleable__label {cursor: pointer;display: block;width: 100%;margin-bottom: 0;padding: 0.3em;box-sizing: border-box;text-align: center;}#sk-container-id-3 label.sk-toggleable__label-arrow:before {content: \"▸\";float: left;margin-right: 0.25em;color: #696969;}#sk-container-id-3 label.sk-toggleable__label-arrow:hover:before {color: black;}#sk-container-id-3 div.sk-estimator:hover label.sk-toggleable__label-arrow:before {color: black;}#sk-container-id-3 div.sk-toggleable__content {max-height: 0;max-width: 0;overflow: hidden;text-align: left;background-color: #f0f8ff;}#sk-container-id-3 div.sk-toggleable__content pre {margin: 0.2em;color: black;border-radius: 0.25em;background-color: #f0f8ff;}#sk-container-id-3 input.sk-toggleable__control:checked~div.sk-toggleable__content {max-height: 200px;max-width: 100%;overflow: auto;}#sk-container-id-3 input.sk-toggleable__control:checked~label.sk-toggleable__label-arrow:before {content: \"▾\";}#sk-container-id-3 div.sk-estimator input.sk-toggleable__control:checked~label.sk-toggleable__label {background-color: #d4ebff;}#sk-container-id-3 div.sk-label input.sk-toggleable__control:checked~label.sk-toggleable__label {background-color: #d4ebff;}#sk-container-id-3 input.sk-hidden--visually {border: 0;clip: rect(1px 1px 1px 1px);clip: rect(1px, 1px, 1px, 1px);height: 1px;margin: -1px;overflow: hidden;padding: 0;position: absolute;width: 1px;}#sk-container-id-3 div.sk-estimator {font-family: monospace;background-color: #f0f8ff;border: 1px dotted black;border-radius: 0.25em;box-sizing: border-box;margin-bottom: 0.5em;}#sk-container-id-3 div.sk-estimator:hover {background-color: #d4ebff;}#sk-container-id-3 div.sk-parallel-item::after {content: \"\";width: 100%;border-bottom: 1px solid gray;flex-grow: 1;}#sk-container-id-3 div.sk-label:hover label.sk-toggleable__label {background-color: #d4ebff;}#sk-container-id-3 div.sk-serial::before {content: \"\";position: absolute;border-left: 1px solid gray;box-sizing: border-box;top: 0;bottom: 0;left: 50%;z-index: 0;}#sk-container-id-3 div.sk-serial {display: flex;flex-direction: column;align-items: center;background-color: white;padding-right: 0.2em;padding-left: 0.2em;position: relative;}#sk-container-id-3 div.sk-item {position: relative;z-index: 1;}#sk-container-id-3 div.sk-parallel {display: flex;align-items: stretch;justify-content: center;background-color: white;position: relative;}#sk-container-id-3 div.sk-item::before, #sk-container-id-3 div.sk-parallel-item::before {content: \"\";position: absolute;border-left: 1px solid gray;box-sizing: border-box;top: 0;bottom: 0;left: 50%;z-index: -1;}#sk-container-id-3 div.sk-parallel-item {display: flex;flex-direction: column;z-index: 1;position: relative;background-color: white;}#sk-container-id-3 div.sk-parallel-item:first-child::after {align-self: flex-end;width: 50%;}#sk-container-id-3 div.sk-parallel-item:last-child::after {align-self: flex-start;width: 50%;}#sk-container-id-3 div.sk-parallel-item:only-child::after {width: 0;}#sk-container-id-3 div.sk-dashed-wrapped {border: 1px dashed gray;margin: 0 0.4em 0.5em 0.4em;box-sizing: border-box;padding-bottom: 0.4em;background-color: white;}#sk-container-id-3 div.sk-label label {font-family: monospace;font-weight: bold;display: inline-block;line-height: 1.2em;}#sk-container-id-3 div.sk-label-container {text-align: center;}#sk-container-id-3 div.sk-container {/* jupyter's `normalize.less` sets `[hidden] { display: none; }` but bootstrap.min.css set `[hidden] { display: none !important; }` so we also need the `!important` here to be able to override the default hidden behavior on the sphinx rendered scikit-learn.org. See: https://github.com/scikit-learn/scikit-learn/issues/21755 */display: inline-block !important;position: relative;}#sk-container-id-3 div.sk-text-repr-fallback {display: none;}</style><div id=\"sk-container-id-3\" class=\"sk-top-container\"><div class=\"sk-text-repr-fallback\"><pre>SVC(C=10.0, gamma=0.01)</pre><b>In a Jupyter environment, please rerun this cell to show the HTML representation or trust the notebook. <br />On GitHub, the HTML representation is unable to render, please try loading this page with nbviewer.org.</b></div><div class=\"sk-container\" hidden><div class=\"sk-item\"><div class=\"sk-estimator sk-toggleable\"><input class=\"sk-toggleable__control sk-hidden--visually\" id=\"sk-estimator-id-5\" type=\"checkbox\" checked><label for=\"sk-estimator-id-5\" class=\"sk-toggleable__label sk-toggleable__label-arrow\">SVC</label><div class=\"sk-toggleable__content\"><pre>SVC(C=10.0, gamma=0.01)</pre></div></div></div></div></div>"
      ],
      "text/plain": [
       "SVC(C=10.0, gamma=0.01)"
      ]
     },
     "execution_count": 70,
     "metadata": {},
     "output_type": "execute_result"
    }
   ],
   "source": [
    "best_model.fit(X_train, y_train)"
   ]
  },
  {
   "cell_type": "code",
   "execution_count": 71,
   "metadata": {},
   "outputs": [],
   "source": [
    "predicted = best_model.predict(X_test)"
   ]
  },
  {
   "cell_type": "code",
   "execution_count": 74,
   "metadata": {},
   "outputs": [],
   "source": [
    "predicted_val = best_model.predict(X_val)"
   ]
  },
  {
   "cell_type": "code",
   "execution_count": 76,
   "metadata": {},
   "outputs": [],
   "source": [
    "predicted_train = best_model.predict(X_train)"
   ]
  },
  {
   "cell_type": "code",
   "execution_count": 72,
   "metadata": {},
   "outputs": [
    {
     "name": "stdout",
     "output_type": "stream",
     "text": [
      "Classification report for classifier SVC(C=10.0, gamma=0.01):\n",
      "              precision    recall  f1-score   support\n",
      "\n",
      "         0.0       1.00      1.00      1.00       822\n",
      "         1.0       0.98      1.00      0.99        45\n",
      "         2.0       0.96      0.93      0.95        75\n",
      "         3.0       0.94      0.96      0.95        70\n",
      "\n",
      "    accuracy                           0.99      1012\n",
      "   macro avg       0.97      0.97      0.97      1012\n",
      "weighted avg       0.99      0.99      0.99      1012\n",
      "\n",
      "\n"
     ]
    }
   ],
   "source": [
    "print(\n",
    "    f\"Classification report for classifier {best_model}:\\n\"\n",
    "    f\"{metrics.classification_report(y_test, predicted)}\\n\"\n",
    "    )"
   ]
  },
  {
   "cell_type": "code",
   "execution_count": 75,
   "metadata": {},
   "outputs": [
    {
     "name": "stdout",
     "output_type": "stream",
     "text": [
      "Classification report for classifier SVC(C=10.0, gamma=0.01):\n",
      "              precision    recall  f1-score   support\n",
      "\n",
      "         0.0       1.00      1.00      1.00      1901\n",
      "         1.0       1.00      1.00      1.00       106\n",
      "         2.0       0.96      0.96      0.96       173\n",
      "         3.0       0.96      0.96      0.96       160\n",
      "\n",
      "    accuracy                           0.99      2340\n",
      "   macro avg       0.98      0.98      0.98      2340\n",
      "weighted avg       0.99      0.99      0.99      2340\n",
      "\n",
      "\n"
     ]
    }
   ],
   "source": [
    "print(\n",
    "    f\"Classification report for classifier {best_model}:\\n\"\n",
    "    f\"{metrics.classification_report(y_val, predicted_val)}\\n\"\n",
    "    )"
   ]
  },
  {
   "cell_type": "code",
   "execution_count": 77,
   "metadata": {},
   "outputs": [
    {
     "name": "stdout",
     "output_type": "stream",
     "text": [
      "Classification report for classifier SVC(C=10.0, gamma=0.01):\n",
      "              precision    recall  f1-score   support\n",
      "\n",
      "         0.0       1.00      1.00      1.00      7406\n",
      "         1.0       1.00      0.99      1.00       414\n",
      "         2.0       0.97      0.97      0.97       673\n",
      "         3.0       0.97      0.98      0.97       624\n",
      "\n",
      "    accuracy                           1.00      9117\n",
      "   macro avg       0.99      0.99      0.99      9117\n",
      "weighted avg       1.00      1.00      1.00      9117\n",
      "\n",
      "\n"
     ]
    }
   ],
   "source": [
    "print(\n",
    "    f\"Classification report for classifier {best_model}:\\n\"\n",
    "    f\"{metrics.classification_report(y_train, predicted_train)}\\n\"\n",
    "    )"
   ]
  },
  {
   "attachments": {},
   "cell_type": "markdown",
   "metadata": {},
   "source": [
    "### SVM (Permutation importance)"
   ]
  },
  {
   "cell_type": "code",
   "execution_count": null,
   "metadata": {},
   "outputs": [],
   "source": [
    "results = permutation_importance(\n",
    "                                best_model,\n",
    "                                X_train,\n",
    "                                y_train,\n",
    "                                scoring='accuracy'\n",
    "                                )\n",
    "\n",
    "nombres_columnas = data.columns[:-1]\n",
    "importance = results.importances_mean\n",
    "index = np.argsort(importance)\n",
    "\n",
    "for v, idx in zip(importance, index):\n",
    "    \n",
    "    print(f'Feature: {nombres_columnas[idx]} | Score: {v}')\n"
   ]
  },
  {
   "attachments": {},
   "cell_type": "markdown",
   "metadata": {},
   "source": [
    "### SVM con caracteristicas seleccionadas del árbol de decisión"
   ]
  },
  {
   "cell_type": "code",
   "execution_count": null,
   "metadata": {},
   "outputs": [],
   "source": [
    "acc_per_feature = []\n",
    "std_per_feature = []\n",
    "\n",
    "for index, feature_name in enumerate(sorted_names,start=1):\n",
    "\n",
    "    input_features_names = sorted_names[:index]\n",
    "    input_features_index = [data.columns.get_loc(c) for c \n",
    "                      in input_features_names if c in data]\n",
    "    best_model.fit(X_train[:, input_features_index], y_train)\n",
    "    scores = cross_val_score(\n",
    "                        estimator=best_model,\n",
    "                        X=X_train[:, input_features_index],\n",
    "                        y=y_train,\n",
    "                        cv=10,\n",
    "                        n_jobs=-1\n",
    "                        )\n",
    "    acc_per_feature.append(np.mean(scores))\n",
    "    std_per_feature.append(np.std(scores))\n",
    "\n",
    "plt.plot(\n",
    "        range(1, len(sorted_names)),\n",
    "        acc_per_feature,\n",
    "        color='red'\n",
    "        ) \n",
    "\n",
    "plt.fill_between(\n",
    "                range(1, len(sorted_names)),\n",
    "                acc_per_feature + std_per_feature,\n",
    "                acc_per_feature - std_per_feature,\n",
    "                alpha=0.15,\n",
    "                color='red'\n",
    "                )\n",
    "\n",
    "plt.grid()"
   ]
  },
  {
   "attachments": {},
   "cell_type": "markdown",
   "metadata": {},
   "source": [
    "### XGBoosting"
   ]
  },
  {
   "attachments": {},
   "cell_type": "markdown",
   "metadata": {},
   "source": [
    "### TPOT"
   ]
  },
  {
   "cell_type": "code",
   "execution_count": null,
   "metadata": {},
   "outputs": [],
   "source": [
    "from tpot import TPOTClassifier\n",
    "pipeline_optimizer = TPOTClassifier()"
   ]
  },
  {
   "cell_type": "code",
   "execution_count": null,
   "metadata": {},
   "outputs": [],
   "source": [
    "pipeline_optimizer = TPOTClassifier(\n",
    "                                    generations=5,\n",
    "                                    population_size=int(X.shape[0]*0.4),\n",
    "                                    cv=10,\n",
    "                                    random_state=10,\n",
    "                                    verbosity=3,\n",
    "                                    n_jobs=-1\n",
    "                                    )"
   ]
  },
  {
   "cell_type": "code",
   "execution_count": null,
   "metadata": {},
   "outputs": [],
   "source": [
    "pipeline_optimizer.fit(X_train, y_train)"
   ]
  },
  {
   "cell_type": "code",
   "execution_count": null,
   "metadata": {},
   "outputs": [],
   "source": [
    "pipeline_optimizer"
   ]
  },
  {
   "cell_type": "code",
   "execution_count": null,
   "metadata": {},
   "outputs": [],
   "source": [
    "print(pipeline_optimizer.score(X_test, y_test))"
   ]
  },
  {
   "cell_type": "code",
   "execution_count": null,
   "metadata": {},
   "outputs": [],
   "source": [
    "from sklearn.tree import DecisionTreeClassifier\n",
    "DecisionTreeClassifier(X_test, DecisionTreeClassifier__criterion='gini', DecisionTreeClassifier__max_depth=9, DecisionTreeClassifier__min_samples_leaf=10, DecisionTreeClassifier__min_samples_split=14)"
   ]
  }
 ],
 "metadata": {
  "kernelspec": {
   "display_name": "base",
   "language": "python",
   "name": "python3"
  },
  "language_info": {
   "codemirror_mode": {
    "name": "ipython",
    "version": 3
   },
   "file_extension": ".py",
   "mimetype": "text/x-python",
   "name": "python",
   "nbconvert_exporter": "python",
   "pygments_lexer": "ipython3",
   "version": "3.11.6"
  },
  "orig_nbformat": 4,
  "vscode": {
   "interpreter": {
    "hash": "4406ea31cdf9857eb4429f9ef0595ec2e3b9f71979a24e3f6d87669e7dbf13d2"
   }
  }
 },
 "nbformat": 4,
 "nbformat_minor": 2
}
